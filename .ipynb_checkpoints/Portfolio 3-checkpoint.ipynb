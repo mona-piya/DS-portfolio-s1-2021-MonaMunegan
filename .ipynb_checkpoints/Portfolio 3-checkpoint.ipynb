{
 "cells": [
  {
   "cell_type": "code",
   "execution_count": 1,
   "metadata": {},
   "outputs": [],
   "source": [
    "import pandas as pd\n",
    "import numpy as np\n",
    "import matplotlib.pyplot as plt\n",
    "%matplotlib inline\n",
    "\n",
    "import time\n",
    "import seaborn as sns\n",
    "\n",
    "from sklearn.feature_extraction.text import CountVectorizer\n",
    "from sklearn.feature_extraction.text import TfidfVectorizer, TfidfTransformer\n",
    "from sklearn.model_selection import train_test_split\n",
    "from sklearn.naive_bayes import GaussianNB\n",
    "from sklearn.naive_bayes import MultinomialNB\n",
    "from sklearn.linear_model import LogisticRegression\n",
    "from sklearn import tree\n",
    "from sklearn.ensemble import RandomForestClassifier\n",
    "\n",
    "from sklearn.model_selection import cross_val_score\n",
    "from sklearn.metrics import confusion_matrix, accuracy_score, f1_score, precision_score, recall_score\n",
    "from sklearn.metrics import classification_report\n",
    "\n",
    "# supress some warnings that mess up my slides\n",
    "import warnings; warnings.simplefilter('ignore')"
   ]
  },
  {
   "cell_type": "code",
   "execution_count": 2,
   "metadata": {},
   "outputs": [],
   "source": [
    "student_name = \"Pyakorn Munegan (Mona)\"\n",
    "student_id = \"46318461\""
   ]
  },
  {
   "cell_type": "markdown",
   "metadata": {},
   "source": [
    "## Predicting the Genre of Books from Summaries\n",
    "\n",
    "We'll use a set of book summaries from the [CMU Book Summaries Corpus](http://www.cs.cmu.edu/~dbamman/booksummaries.html) in this experiment.  This contains a large number of summaries (16,559) and includes meta-data about the genre of the books taken from Freebase.  Each book can have more than one genre and there are 227 genres listed in total.  To simplify the problem of genre prediction we will select a small number of target genres that occur frequently in the collection and select the books with these genre labels.  This will give us one genre label per book. \n",
    "\n",
    "Your goal in this portfolio is to take this data and build predictive models to classify the books into one of the five target genres.  You will need to extract suitable features from the texts and select suitable models to classify them. You should build and evaluate at least TWO models and compare the prediction results.\n",
    "\n",
    "You should report on each stage of your experiment as you work with the data.\n"
   ]
  },
  {
   "cell_type": "markdown",
   "metadata": {},
   "source": [
    "## Data Preparation\n",
    "\n",
    "The first task is to read the data. It is made available in tab-separated format but has no column headings. We can use `read_csv` to read this but we need to set the separator to `\\t` (tab) and supply the column names.  The names come from the [ReadMe](data/booksummaries/README.txt) file."
   ]
  },
  {
   "cell_type": "code",
   "execution_count": 3,
   "metadata": {
    "scrolled": true
   },
   "outputs": [
    {
     "data": {
      "text/html": [
       "<div>\n",
       "<style scoped>\n",
       "    .dataframe tbody tr th:only-of-type {\n",
       "        vertical-align: middle;\n",
       "    }\n",
       "\n",
       "    .dataframe tbody tr th {\n",
       "        vertical-align: top;\n",
       "    }\n",
       "\n",
       "    .dataframe thead th {\n",
       "        text-align: right;\n",
       "    }\n",
       "</style>\n",
       "<table border=\"1\" class=\"dataframe\">\n",
       "  <thead>\n",
       "    <tr style=\"text-align: right;\">\n",
       "      <th></th>\n",
       "      <th>wid</th>\n",
       "      <th>fid</th>\n",
       "      <th>title</th>\n",
       "      <th>author</th>\n",
       "      <th>date</th>\n",
       "      <th>genres</th>\n",
       "      <th>summary</th>\n",
       "    </tr>\n",
       "  </thead>\n",
       "  <tbody>\n",
       "    <tr>\n",
       "      <th>0</th>\n",
       "      <td>620</td>\n",
       "      <td>/m/0hhy</td>\n",
       "      <td>Animal Farm</td>\n",
       "      <td>George Orwell</td>\n",
       "      <td>1945-08-17</td>\n",
       "      <td>{\"/m/016lj8\": \"Roman \\u00e0 clef\", \"/m/06nbt\":...</td>\n",
       "      <td>Old Major, the old boar on the Manor Farm, ca...</td>\n",
       "    </tr>\n",
       "    <tr>\n",
       "      <th>1</th>\n",
       "      <td>843</td>\n",
       "      <td>/m/0k36</td>\n",
       "      <td>A Clockwork Orange</td>\n",
       "      <td>Anthony Burgess</td>\n",
       "      <td>1962</td>\n",
       "      <td>{\"/m/06n90\": \"Science Fiction\", \"/m/0l67h\": \"N...</td>\n",
       "      <td>Alex, a teenager living in near-future Englan...</td>\n",
       "    </tr>\n",
       "    <tr>\n",
       "      <th>2</th>\n",
       "      <td>986</td>\n",
       "      <td>/m/0ldx</td>\n",
       "      <td>The Plague</td>\n",
       "      <td>Albert Camus</td>\n",
       "      <td>1947</td>\n",
       "      <td>{\"/m/02m4t\": \"Existentialism\", \"/m/02xlf\": \"Fi...</td>\n",
       "      <td>The text of The Plague is divided into five p...</td>\n",
       "    </tr>\n",
       "    <tr>\n",
       "      <th>3</th>\n",
       "      <td>1756</td>\n",
       "      <td>/m/0sww</td>\n",
       "      <td>An Enquiry Concerning Human Understanding</td>\n",
       "      <td>David Hume</td>\n",
       "      <td></td>\n",
       "      <td></td>\n",
       "      <td>The argument of the Enquiry proceeds by a ser...</td>\n",
       "    </tr>\n",
       "    <tr>\n",
       "      <th>4</th>\n",
       "      <td>2080</td>\n",
       "      <td>/m/0wkt</td>\n",
       "      <td>A Fire Upon the Deep</td>\n",
       "      <td>Vernor Vinge</td>\n",
       "      <td></td>\n",
       "      <td>{\"/m/03lrw\": \"Hard science fiction\", \"/m/06n90...</td>\n",
       "      <td>The novel posits that space around the Milky ...</td>\n",
       "    </tr>\n",
       "  </tbody>\n",
       "</table>\n",
       "</div>"
      ],
      "text/plain": [
       "    wid      fid                                      title           author  \\\n",
       "0   620  /m/0hhy                                Animal Farm    George Orwell   \n",
       "1   843  /m/0k36                         A Clockwork Orange  Anthony Burgess   \n",
       "2   986  /m/0ldx                                 The Plague     Albert Camus   \n",
       "3  1756  /m/0sww  An Enquiry Concerning Human Understanding       David Hume   \n",
       "4  2080  /m/0wkt                       A Fire Upon the Deep     Vernor Vinge   \n",
       "\n",
       "         date                                             genres  \\\n",
       "0  1945-08-17  {\"/m/016lj8\": \"Roman \\u00e0 clef\", \"/m/06nbt\":...   \n",
       "1        1962  {\"/m/06n90\": \"Science Fiction\", \"/m/0l67h\": \"N...   \n",
       "2        1947  {\"/m/02m4t\": \"Existentialism\", \"/m/02xlf\": \"Fi...   \n",
       "3                                                                  \n",
       "4              {\"/m/03lrw\": \"Hard science fiction\", \"/m/06n90...   \n",
       "\n",
       "                                             summary  \n",
       "0   Old Major, the old boar on the Manor Farm, ca...  \n",
       "1   Alex, a teenager living in near-future Englan...  \n",
       "2   The text of The Plague is divided into five p...  \n",
       "3   The argument of the Enquiry proceeds by a ser...  \n",
       "4   The novel posits that space around the Milky ...  "
      ]
     },
     "execution_count": 3,
     "metadata": {},
     "output_type": "execute_result"
    }
   ],
   "source": [
    "names = ['wid', 'fid', 'title', 'author', 'date', 'genres', 'summary']\n",
    "\n",
    "books = pd.read_csv(\"data/booksummaries/booksummaries.txt\", sep=\"\\t\", header=None, names=names, keep_default_na=False)\n",
    "books.head()"
   ]
  },
  {
   "cell_type": "code",
   "execution_count": 4,
   "metadata": {},
   "outputs": [
    {
     "name": "stdout",
     "output_type": "stream",
     "text": [
      "(16559, 7)\n"
     ]
    }
   ],
   "source": [
    "print(books.shape)"
   ]
  },
  {
   "cell_type": "markdown",
   "metadata": {},
   "source": [
    "We next filter the data so that only our target genre labels are included and we assign each text to just one of the genre labels.  It's possible that one text could be labelled with two of these labels (eg. Science Fiction and Fantasy) but we will just assign one of those here. "
   ]
  },
  {
   "cell_type": "code",
   "execution_count": 5,
   "metadata": {},
   "outputs": [
    {
     "name": "stdout",
     "output_type": "stream",
     "text": [
      "(8954, 5)\n",
      "                  title             author        date  \\\n",
      "0           Animal Farm      George Orwell  1945-08-17   \n",
      "1    A Clockwork Orange    Anthony Burgess        1962   \n",
      "2            The Plague       Albert Camus        1947   \n",
      "4  A Fire Upon the Deep       Vernor Vinge               \n",
      "6  A Wizard of Earthsea  Ursula K. Le Guin        1968   \n",
      "\n",
      "                                             summary                  genre  \n",
      "0   Old Major, the old boar on the Manor Farm, ca...  Children's literature  \n",
      "1   Alex, a teenager living in near-future Englan...                  Novel  \n",
      "2   The text of The Plague is divided into five p...                  Novel  \n",
      "4   The novel posits that space around the Milky ...                Fantasy  \n",
      "6   Ged is a young boy on Gont, one of the larger...                Fantasy  \n"
     ]
    }
   ],
   "source": [
    "target_genres = [\"Children's literature\",\n",
    "                 \"Science Fiction\",\n",
    "                 \"Novel\",\n",
    "                 \"Fantasy\",\n",
    "                 \"Mystery\"]\n",
    "\n",
    "# create a Series of empty strings the same length as the list of books\n",
    "genre = pd.Series(np.repeat(\"\", books.shape[0]))\n",
    "# look for each target genre and set the corresponding entries in the genre series to the genre label\n",
    "for g in target_genres:\n",
    "    genre[books['genres'].str.contains(g)] = g\n",
    "\n",
    "# add this to the book dataframe and then select only those rows that have a genre label\n",
    "# drop some useless columns\n",
    "books['genre'] = genre\n",
    "genre_books = books[genre!=''].drop(['genres', 'fid', 'wid'], axis=1)\n",
    "\n",
    "print(genre_books.shape)\n",
    "print(genre_books.head(5))"
   ]
  },
  {
   "cell_type": "code",
   "execution_count": 6,
   "metadata": {},
   "outputs": [
    {
     "data": {
      "text/html": [
       "<div>\n",
       "<style scoped>\n",
       "    .dataframe tbody tr th:only-of-type {\n",
       "        vertical-align: middle;\n",
       "    }\n",
       "\n",
       "    .dataframe tbody tr th {\n",
       "        vertical-align: top;\n",
       "    }\n",
       "\n",
       "    .dataframe thead th {\n",
       "        text-align: right;\n",
       "    }\n",
       "</style>\n",
       "<table border=\"1\" class=\"dataframe\">\n",
       "  <thead>\n",
       "    <tr style=\"text-align: right;\">\n",
       "      <th></th>\n",
       "      <th>title</th>\n",
       "      <th>author</th>\n",
       "      <th>date</th>\n",
       "      <th>summary</th>\n",
       "    </tr>\n",
       "    <tr>\n",
       "      <th>genre</th>\n",
       "      <th></th>\n",
       "      <th></th>\n",
       "      <th></th>\n",
       "      <th></th>\n",
       "    </tr>\n",
       "  </thead>\n",
       "  <tbody>\n",
       "    <tr>\n",
       "      <th>Children's literature</th>\n",
       "      <td>1092</td>\n",
       "      <td>1092</td>\n",
       "      <td>1092</td>\n",
       "      <td>1092</td>\n",
       "    </tr>\n",
       "    <tr>\n",
       "      <th>Fantasy</th>\n",
       "      <td>2311</td>\n",
       "      <td>2311</td>\n",
       "      <td>2311</td>\n",
       "      <td>2311</td>\n",
       "    </tr>\n",
       "    <tr>\n",
       "      <th>Mystery</th>\n",
       "      <td>1396</td>\n",
       "      <td>1396</td>\n",
       "      <td>1396</td>\n",
       "      <td>1396</td>\n",
       "    </tr>\n",
       "    <tr>\n",
       "      <th>Novel</th>\n",
       "      <td>2258</td>\n",
       "      <td>2258</td>\n",
       "      <td>2258</td>\n",
       "      <td>2258</td>\n",
       "    </tr>\n",
       "    <tr>\n",
       "      <th>Science Fiction</th>\n",
       "      <td>1897</td>\n",
       "      <td>1897</td>\n",
       "      <td>1897</td>\n",
       "      <td>1897</td>\n",
       "    </tr>\n",
       "  </tbody>\n",
       "</table>\n",
       "</div>"
      ],
      "text/plain": [
       "                       title  author  date  summary\n",
       "genre                                              \n",
       "Children's literature   1092    1092  1092     1092\n",
       "Fantasy                 2311    2311  2311     2311\n",
       "Mystery                 1396    1396  1396     1396\n",
       "Novel                   2258    2258  2258     2258\n",
       "Science Fiction         1897    1897  1897     1897"
      ]
     },
     "execution_count": 6,
     "metadata": {},
     "output_type": "execute_result"
    }
   ],
   "source": [
    "# check how many books we have in each genre category\n",
    "genre_books.groupby('genre').count()"
   ]
  },
  {
   "cell_type": "markdown",
   "metadata": {},
   "source": [
    "## Feature Exaction\n",
    "\n",
    "Now you take over to build a suitable model and present your results.\n",
    "\n",
    "Firstly, you need to perform feature extraction to produce feature vectors for the predictive models."
   ]
  },
  {
   "cell_type": "code",
   "execution_count": 7,
   "metadata": {},
   "outputs": [
    {
     "data": {
      "text/html": [
       "<div>\n",
       "<style scoped>\n",
       "    .dataframe tbody tr th:only-of-type {\n",
       "        vertical-align: middle;\n",
       "    }\n",
       "\n",
       "    .dataframe tbody tr th {\n",
       "        vertical-align: top;\n",
       "    }\n",
       "\n",
       "    .dataframe thead th {\n",
       "        text-align: right;\n",
       "    }\n",
       "</style>\n",
       "<table border=\"1\" class=\"dataframe\">\n",
       "  <thead>\n",
       "    <tr style=\"text-align: right;\">\n",
       "      <th></th>\n",
       "      <th>title</th>\n",
       "      <th>author</th>\n",
       "      <th>date</th>\n",
       "      <th>summary</th>\n",
       "      <th>genre</th>\n",
       "    </tr>\n",
       "  </thead>\n",
       "  <tbody>\n",
       "    <tr>\n",
       "      <th>0</th>\n",
       "      <td>Animal Farm</td>\n",
       "      <td>George Orwell</td>\n",
       "      <td>1945-08-17</td>\n",
       "      <td>Old Major, the old boar on the Manor Farm, ca...</td>\n",
       "      <td>Children's literature</td>\n",
       "    </tr>\n",
       "    <tr>\n",
       "      <th>1</th>\n",
       "      <td>A Clockwork Orange</td>\n",
       "      <td>Anthony Burgess</td>\n",
       "      <td>1962</td>\n",
       "      <td>Alex, a teenager living in near-future Englan...</td>\n",
       "      <td>Novel</td>\n",
       "    </tr>\n",
       "    <tr>\n",
       "      <th>2</th>\n",
       "      <td>The Plague</td>\n",
       "      <td>Albert Camus</td>\n",
       "      <td>1947</td>\n",
       "      <td>The text of The Plague is divided into five p...</td>\n",
       "      <td>Novel</td>\n",
       "    </tr>\n",
       "    <tr>\n",
       "      <th>4</th>\n",
       "      <td>A Fire Upon the Deep</td>\n",
       "      <td>Vernor Vinge</td>\n",
       "      <td></td>\n",
       "      <td>The novel posits that space around the Milky ...</td>\n",
       "      <td>Fantasy</td>\n",
       "    </tr>\n",
       "    <tr>\n",
       "      <th>6</th>\n",
       "      <td>A Wizard of Earthsea</td>\n",
       "      <td>Ursula K. Le Guin</td>\n",
       "      <td>1968</td>\n",
       "      <td>Ged is a young boy on Gont, one of the larger...</td>\n",
       "      <td>Fantasy</td>\n",
       "    </tr>\n",
       "  </tbody>\n",
       "</table>\n",
       "</div>"
      ],
      "text/plain": [
       "                  title             author        date  \\\n",
       "0           Animal Farm      George Orwell  1945-08-17   \n",
       "1    A Clockwork Orange    Anthony Burgess        1962   \n",
       "2            The Plague       Albert Camus        1947   \n",
       "4  A Fire Upon the Deep       Vernor Vinge               \n",
       "6  A Wizard of Earthsea  Ursula K. Le Guin        1968   \n",
       "\n",
       "                                             summary                  genre  \n",
       "0   Old Major, the old boar on the Manor Farm, ca...  Children's literature  \n",
       "1   Alex, a teenager living in near-future Englan...                  Novel  \n",
       "2   The text of The Plague is divided into five p...                  Novel  \n",
       "4   The novel posits that space around the Milky ...                Fantasy  \n",
       "6   Ged is a young boy on Gont, one of the larger...                Fantasy  "
      ]
     },
     "execution_count": 7,
     "metadata": {},
     "output_type": "execute_result"
    }
   ],
   "source": [
    "genre_books.head(5)"
   ]
  },
  {
   "cell_type": "code",
   "execution_count": 8,
   "metadata": {},
   "outputs": [
    {
     "data": {
      "text/plain": [
       "0     Old Major, the old boar on the Manor Farm, ca...\n",
       "1     Alex, a teenager living in near-future Englan...\n",
       "2     The text of The Plague is divided into five p...\n",
       "4     The novel posits that space around the Milky ...\n",
       "6     Ged is a young boy on Gont, one of the larger...\n",
       "Name: summary, dtype: object"
      ]
     },
     "execution_count": 8,
     "metadata": {},
     "output_type": "execute_result"
    }
   ],
   "source": [
    "genre_books.summary.head()"
   ]
  },
  {
   "cell_type": "code",
   "execution_count": 9,
   "metadata": {},
   "outputs": [
    {
     "name": "stdout",
     "output_type": "stream",
     "text": [
      "title      0\n",
      "author     0\n",
      "date       0\n",
      "summary    0\n",
      "genre      0\n",
      "dtype: int64\n"
     ]
    }
   ],
   "source": [
    "print(genre_books.isnull().sum())"
   ]
  },
  {
   "cell_type": "code",
   "execution_count": 10,
   "metadata": {},
   "outputs": [
    {
     "data": {
      "text/plain": [
       "8954"
      ]
     },
     "execution_count": 10,
     "metadata": {},
     "output_type": "execute_result"
    }
   ],
   "source": [
    "len(genre_books.summary) #8954\n",
    "len(genre_books.genre) #8954"
   ]
  },
  {
   "cell_type": "code",
   "execution_count": 11,
   "metadata": {},
   "outputs": [],
   "source": [
    "X = genre_books['summary']\n",
    "y = genre_books['genre']"
   ]
  },
  {
   "cell_type": "code",
   "execution_count": 12,
   "metadata": {},
   "outputs": [],
   "source": [
    "vectorizer = CountVectorizer()\n",
    "vectorizer = vectorizer.fit(X)\n",
    "vectorizer_msg = vectorizer.transform(X)\n",
    "\n",
    "#create df to contain words\n",
    "word_matrix = vectorizer_msg.toarray() \n",
    "df = pd.DataFrame(word_matrix, columns = vectorizer.get_feature_names()) #create df from matrix\n",
    "#df.shape\n",
    "\n",
    "#bag-of-words\n",
    "dfsum = df.sum(axis=0, skipna=True)\n",
    "bow = dfsum.sort_values(ascending=False)[:30]\n",
    "#bow"
   ]
  },
  {
   "cell_type": "code",
   "execution_count": 13,
   "metadata": {},
   "outputs": [],
   "source": [
    "vectorizer2 = CountVectorizer(stop_words='english')\n",
    "vectorizer2 = vectorizer2.fit(X)\n",
    "vectorizer_msg2 = vectorizer2.transform(X)\n",
    "\n",
    "#create df to contain words\n",
    "word_matrix2 = vectorizer_msg2.toarray()\n",
    "df = pd.DataFrame(word_matrix2, columns = vectorizer2.get_feature_names())\n",
    "#df.shape\n",
    "\n",
    "#bag-of-words\n",
    "dfsum2 = df.sum(axis=0, skipna=True)\n",
    "bow2 = dfsum2.sort_values(ascending=False)[:30]\n",
    "#bow2"
   ]
  },
  {
   "cell_type": "code",
   "execution_count": 14,
   "metadata": {},
   "outputs": [
    {
     "data": {
      "image/png": "[encoded data removed]",
      "text/plain": [
       "<Figure size 432x576 with 2 Axes>"
      ]
     },
     "metadata": {},
     "output_type": "display_data"
    }
   ],
   "source": [
    "sns.set(style='whitegrid')\n",
    "fig, ax = plt.subplots(1, 2, figsize = (6, 8))\n",
    "g1 = sns.barplot(bow.values, bow.index, ax=ax[0]).set(xlabel='Frequencies', ylabel='Words', title = 'Top 30 words including stop-words')\n",
    "g2 = sns.barplot(bow2.values, bow2.index, ax=ax[1]).set(xlabel='Frequencies', ylabel='Words', title = 'Top 30 words without stop-words')\n",
    "fig.tight_layout(pad=0.5) #adjust padding between subplots\n",
    "plt.show()"
   ]
  },
  {
   "cell_type": "markdown",
   "metadata": {},
   "source": [
    "The graphs above comparing between the top 30 words with and without stop-words. It can be seen that 'the' has the most frequency at almost 300,000 words. However, without stop-words, the most frequency is 'time' at almost 8,000 words."
   ]
  },
  {
   "cell_type": "code",
   "execution_count": 15,
   "metadata": {},
   "outputs": [
    {
     "name": "stdout",
     "output_type": "stream",
     "text": [
      "{\"Children's literature\": 0, 'Fantasy': 1, 'Mystery': 2, 'Novel': 3, 'Science Fiction': 4}\n"
     ]
    }
   ],
   "source": [
    "#Encoding categorical Values\n",
    "from sklearn.preprocessing import LabelEncoder\n",
    "from sklearn import preprocessing\n",
    "\n",
    "labelencoder = preprocessing.LabelEncoder()\n",
    "#Assigning numerical values and storing in another column\n",
    "genre_books['genre_cat'] = labelencoder.fit_transform(genre_books['genre'])\n",
    "\n",
    "le_name_mapping = dict(zip(labelencoder.classes_, labelencoder.transform(labelencoder.classes_)))\n",
    "print(le_name_mapping)\n",
    "#{\"Children's literature\":\"0\", \"Fantasy\":\"1\", \"Mystery\":\"2\", \"Novel\":\"3\", \"Science Fiction\":\"4\"}"
   ]
  },
  {
   "cell_type": "code",
   "execution_count": 16,
   "metadata": {},
   "outputs": [
    {
     "data": {
      "text/html": [
       "<div>\n",
       "<style scoped>\n",
       "    .dataframe tbody tr th:only-of-type {\n",
       "        vertical-align: middle;\n",
       "    }\n",
       "\n",
       "    .dataframe tbody tr th {\n",
       "        vertical-align: top;\n",
       "    }\n",
       "\n",
       "    .dataframe thead th {\n",
       "        text-align: right;\n",
       "    }\n",
       "</style>\n",
       "<table border=\"1\" class=\"dataframe\">\n",
       "  <thead>\n",
       "    <tr style=\"text-align: right;\">\n",
       "      <th></th>\n",
       "      <th>title</th>\n",
       "      <th>author</th>\n",
       "      <th>date</th>\n",
       "      <th>summary</th>\n",
       "      <th>genre</th>\n",
       "      <th>genre_cat</th>\n",
       "    </tr>\n",
       "  </thead>\n",
       "  <tbody>\n",
       "    <tr>\n",
       "      <th>0</th>\n",
       "      <td>Animal Farm</td>\n",
       "      <td>George Orwell</td>\n",
       "      <td>1945-08-17</td>\n",
       "      <td>Old Major, the old boar on the Manor Farm, ca...</td>\n",
       "      <td>Children's literature</td>\n",
       "      <td>0</td>\n",
       "    </tr>\n",
       "    <tr>\n",
       "      <th>1</th>\n",
       "      <td>A Clockwork Orange</td>\n",
       "      <td>Anthony Burgess</td>\n",
       "      <td>1962</td>\n",
       "      <td>Alex, a teenager living in near-future Englan...</td>\n",
       "      <td>Novel</td>\n",
       "      <td>3</td>\n",
       "    </tr>\n",
       "    <tr>\n",
       "      <th>2</th>\n",
       "      <td>The Plague</td>\n",
       "      <td>Albert Camus</td>\n",
       "      <td>1947</td>\n",
       "      <td>The text of The Plague is divided into five p...</td>\n",
       "      <td>Novel</td>\n",
       "      <td>3</td>\n",
       "    </tr>\n",
       "    <tr>\n",
       "      <th>4</th>\n",
       "      <td>A Fire Upon the Deep</td>\n",
       "      <td>Vernor Vinge</td>\n",
       "      <td></td>\n",
       "      <td>The novel posits that space around the Milky ...</td>\n",
       "      <td>Fantasy</td>\n",
       "      <td>1</td>\n",
       "    </tr>\n",
       "    <tr>\n",
       "      <th>6</th>\n",
       "      <td>A Wizard of Earthsea</td>\n",
       "      <td>Ursula K. Le Guin</td>\n",
       "      <td>1968</td>\n",
       "      <td>Ged is a young boy on Gont, one of the larger...</td>\n",
       "      <td>Fantasy</td>\n",
       "      <td>1</td>\n",
       "    </tr>\n",
       "  </tbody>\n",
       "</table>\n",
       "</div>"
      ],
      "text/plain": [
       "                  title             author        date  \\\n",
       "0           Animal Farm      George Orwell  1945-08-17   \n",
       "1    A Clockwork Orange    Anthony Burgess        1962   \n",
       "2            The Plague       Albert Camus        1947   \n",
       "4  A Fire Upon the Deep       Vernor Vinge               \n",
       "6  A Wizard of Earthsea  Ursula K. Le Guin        1968   \n",
       "\n",
       "                                             summary                  genre  \\\n",
       "0   Old Major, the old boar on the Manor Farm, ca...  Children's literature   \n",
       "1   Alex, a teenager living in near-future Englan...                  Novel   \n",
       "2   The text of The Plague is divided into five p...                  Novel   \n",
       "4   The novel posits that space around the Milky ...                Fantasy   \n",
       "6   Ged is a young boy on Gont, one of the larger...                Fantasy   \n",
       "\n",
       "   genre_cat  \n",
       "0          0  \n",
       "1          3  \n",
       "2          3  \n",
       "4          1  \n",
       "6          1  "
      ]
     },
     "execution_count": 16,
     "metadata": {},
     "output_type": "execute_result"
    }
   ],
   "source": [
    "genre_books.head()"
   ]
  },
  {
   "cell_type": "code",
   "execution_count": 17,
   "metadata": {},
   "outputs": [],
   "source": [
    "X = genre_books['summary']\n",
    "y = genre_books['genre_cat']"
   ]
  },
  {
   "cell_type": "code",
   "execution_count": 18,
   "metadata": {},
   "outputs": [
    {
     "name": "stdout",
     "output_type": "stream",
     "text": [
      "Time:  3.7647314071655273\n"
     ]
    }
   ],
   "source": [
    "start = time.time()\n",
    "tvec = TfidfVectorizer(max_features=20000, stop_words='english')\n",
    "X_tfidf = tvec.fit_transform(X)\n",
    "end = time.time()\n",
    "Time = end - start\n",
    "print('Time: ', Time)"
   ]
  },
  {
   "cell_type": "code",
   "execution_count": 19,
   "metadata": {},
   "outputs": [],
   "source": [
    "X_train, X_test, y_train, y_test = train_test_split(X_tfidf, y, test_size=0.2, random_state=142)"
   ]
  },
  {
   "cell_type": "code",
   "execution_count": 20,
   "metadata": {},
   "outputs": [
    {
     "name": "stdout",
     "output_type": "stream",
     "text": [
      "X_train shape:  (7163, 20000)\n",
      "y_train shape:  (7163,)\n",
      "X_test shape:  (1791, 20000)\n",
      "y_test shape:  (1791,)\n"
     ]
    }
   ],
   "source": [
    "print(\"X_train shape: \", X_train.shape)\n",
    "print(\"y_train shape: \", y_train.shape)\n",
    "print(\"X_test shape: \", X_test.shape)\n",
    "print(\"y_test shape: \", y_test.shape)"
   ]
  },
  {
   "cell_type": "markdown",
   "metadata": {},
   "source": [
    "## Logistic Regression"
   ]
  },
  {
   "cell_type": "markdown",
   "metadata": {},
   "source": [
    "### Model Training"
   ]
  },
  {
   "cell_type": "code",
   "execution_count": 21,
   "metadata": {},
   "outputs": [
    {
     "name": "stdout",
     "output_type": "stream",
     "text": [
      "Time:  3.9382174015045166\n"
     ]
    }
   ],
   "source": [
    "start = time.time()\n",
    "logreg = LogisticRegression()\n",
    "logreg.fit(X_train, y_train)\n",
    "end = time.time()\n",
    "TimeLR = end - start\n",
    "print('Time: ', TimeLR)"
   ]
  },
  {
   "cell_type": "markdown",
   "metadata": {},
   "source": [
    "### Model Evaluation"
   ]
  },
  {
   "cell_type": "code",
   "execution_count": 22,
   "metadata": {},
   "outputs": [
    {
     "name": "stdout",
     "output_type": "stream",
     "text": [
      "Accuracy scores: 0.6934673366834171\n"
     ]
    }
   ],
   "source": [
    "#Evaluating model on test set\n",
    "y_pred = logreg.predict(X_test)\n",
    "accuracyLR = accuracy_score(y_test, y_pred)\n",
    "f1_LR = f1_score(y_test, y_pred, average=\"macro\")\n",
    "precision_LR = precision_score(y_test, y_pred, average=\"macro\")\n",
    "recall_LR = recall_score(y_test, y_pred, average=\"macro\")\n",
    "\n",
    "print('Accuracy scores:', accuracyLR)"
   ]
  },
  {
   "cell_type": "code",
   "execution_count": 23,
   "metadata": {},
   "outputs": [
    {
     "name": "stdout",
     "output_type": "stream",
     "text": [
      "Accuracy scores: 0.8954348736562893\n"
     ]
    }
   ],
   "source": [
    "#Evaluating model on train set\n",
    "y_pred = logreg.predict(X_train)\n",
    "accuracyLR_train = accuracy_score(y_train, y_pred)\n",
    "\n",
    "print('Accuracy scores:', accuracyLR_train)"
   ]
  },
  {
   "cell_type": "markdown",
   "metadata": {},
   "source": [
    "## Multinomial Naive Bayes"
   ]
  },
  {
   "cell_type": "markdown",
   "metadata": {},
   "source": [
    "### Model Training"
   ]
  },
  {
   "cell_type": "code",
   "execution_count": 24,
   "metadata": {},
   "outputs": [
    {
     "name": "stdout",
     "output_type": "stream",
     "text": [
      "Time:  0.021941661834716797\n"
     ]
    }
   ],
   "source": [
    "start = time.time()\n",
    "modelNB = MultinomialNB(alpha=0.005)\n",
    "modelNB.fit(X_train, y_train)\n",
    "end = time.time()\n",
    "TimeNB = end - start\n",
    "print('Time: ', TimeNB)"
   ]
  },
  {
   "cell_type": "markdown",
   "metadata": {},
   "source": [
    "### Model Evaluation"
   ]
  },
  {
   "cell_type": "code",
   "execution_count": 25,
   "metadata": {},
   "outputs": [
    {
     "name": "stdout",
     "output_type": "stream",
     "text": [
      "Accuracy scores: 0.6795086543830262\n"
     ]
    }
   ],
   "source": [
    "#Evaluating model on test set\n",
    "y_pred = modelNB.predict(X_test)\n",
    "accuracyNB = accuracy_score(y_test, y_pred)\n",
    "\n",
    "f1_NB = f1_score(y_test, y_pred, average=\"macro\")\n",
    "precision_NB = precision_score(y_test, y_pred, average=\"macro\")\n",
    "recall_NB = recall_score(y_test, y_pred, average=\"macro\")\n",
    "\n",
    "print('Accuracy scores:', accuracyNB)"
   ]
  },
  {
   "cell_type": "code",
   "execution_count": 26,
   "metadata": {},
   "outputs": [
    {
     "name": "stdout",
     "output_type": "stream",
     "text": [
      "Accuracy scores: 0.9382940108892922\n"
     ]
    }
   ],
   "source": [
    "#Evaluating model on train set\n",
    "y_pred = modelNB.predict(X_train)\n",
    "accuracyNB_train = accuracy_score(y_train, y_pred)\n",
    "\n",
    "print('Accuracy scores:', accuracyNB_train)"
   ]
  },
  {
   "cell_type": "markdown",
   "metadata": {},
   "source": [
    "## Gaussian Naive Bayes"
   ]
  },
  {
   "cell_type": "markdown",
   "metadata": {},
   "source": [
    "### Model Training"
   ]
  },
  {
   "cell_type": "code",
   "execution_count": 27,
   "metadata": {},
   "outputs": [
    {
     "name": "stdout",
     "output_type": "stream",
     "text": [
      "Time:  6.3082966804504395\n"
     ]
    }
   ],
   "source": [
    "start = time.time()\n",
    "modelGNB = GaussianNB()\n",
    "modelGNB.fit(X_train.toarray(), y_train)\n",
    "end = time.time()\n",
    "TimeGNB = end - start\n",
    "print('Time: ', TimeGNB)"
   ]
  },
  {
   "cell_type": "markdown",
   "metadata": {},
   "source": [
    "### Model Evaluation"
   ]
  },
  {
   "cell_type": "code",
   "execution_count": 28,
   "metadata": {},
   "outputs": [
    {
     "name": "stdout",
     "output_type": "stream",
     "text": [
      "Accuracy scores: 0.5097710776102736\n"
     ]
    }
   ],
   "source": [
    "#Evaluating model on test set\n",
    "y_pred = modelGNB.predict(X_test.toarray())\n",
    "accuracyGNB = accuracy_score(y_test, y_pred)\n",
    "f1_GNB = f1_score(y_test, y_pred, average=\"macro\")\n",
    "precision_GNB = precision_score(y_test, y_pred, average=\"macro\")\n",
    "recall_GNB = recall_score(y_test, y_pred, average=\"macro\")\n",
    "\n",
    "print('Accuracy scores:', accuracyGNB)"
   ]
  },
  {
   "cell_type": "code",
   "execution_count": 29,
   "metadata": {},
   "outputs": [
    {
     "name": "stdout",
     "output_type": "stream",
     "text": [
      "Accuracy scores: 0.9550467681139188\n"
     ]
    }
   ],
   "source": [
    "#Evaluating model on train set\n",
    "y_pred = modelGNB.predict(X_train.toarray())\n",
    "accuracyGNB_train = accuracy_score(y_train, y_pred)\n",
    "\n",
    "print('Accuracy scores:', accuracyGNB_train)"
   ]
  },
  {
   "cell_type": "markdown",
   "metadata": {},
   "source": [
    "## Decision Tree"
   ]
  },
  {
   "cell_type": "markdown",
   "metadata": {},
   "source": [
    "### Model Training"
   ]
  },
  {
   "cell_type": "code",
   "execution_count": 30,
   "metadata": {},
   "outputs": [
    {
     "name": "stdout",
     "output_type": "stream",
     "text": [
      "Time:  10.604503631591797\n"
     ]
    }
   ],
   "source": [
    "start = time.time()\n",
    "decisionTree = tree.DecisionTreeClassifier()\n",
    "decisionTree.fit(X_train, y_train)\n",
    "end = time.time()\n",
    "TimeDC = end - start\n",
    "print('Time: ', TimeDC)"
   ]
  },
  {
   "cell_type": "markdown",
   "metadata": {},
   "source": [
    "### Model Evaluation"
   ]
  },
  {
   "cell_type": "code",
   "execution_count": 31,
   "metadata": {},
   "outputs": [
    {
     "name": "stdout",
     "output_type": "stream",
     "text": [
      "Accuracy scores: 0.47571189279731996\n"
     ]
    }
   ],
   "source": [
    "#Evaluating model on test set\n",
    "y_pred = decisionTree.predict(X_test)\n",
    "accuracyDC = accuracy_score(y_test, y_pred)\n",
    "f1_DC = f1_score(y_test, y_pred, average=\"macro\")\n",
    "precision_DC = precision_score(y_test, y_pred, average=\"macro\")\n",
    "recall_DC = recall_score(y_test, y_pred, average=\"macro\")\n",
    "\n",
    "print('Accuracy scores:', accuracyDC)"
   ]
  },
  {
   "cell_type": "code",
   "execution_count": 32,
   "metadata": {},
   "outputs": [
    {
     "name": "stdout",
     "output_type": "stream",
     "text": [
      "Accuracy scores: 0.9994415747591792\n"
     ]
    }
   ],
   "source": [
    "#Evaluating model on train set\n",
    "y_pred = decisionTree.predict(X_train)\n",
    "accuracyDC_train = accuracy_score(y_train, y_pred)\n",
    "\n",
    "print('Accuracy scores:', accuracyDC_train)"
   ]
  },
  {
   "cell_type": "markdown",
   "metadata": {},
   "source": [
    "## Random Forest"
   ]
  },
  {
   "cell_type": "markdown",
   "metadata": {},
   "source": [
    "### Model Training"
   ]
  },
  {
   "cell_type": "code",
   "execution_count": 33,
   "metadata": {},
   "outputs": [
    {
     "name": "stdout",
     "output_type": "stream",
     "text": [
      "Time:  17.55727767944336\n"
     ]
    }
   ],
   "source": [
    "start = time.time()\n",
    "rfc = RandomForestClassifier()\n",
    "rfc.fit(X_train, y_train)\n",
    "end = time.time()\n",
    "TimeRFC = end - start\n",
    "print('Time: ', TimeRFC)"
   ]
  },
  {
   "cell_type": "markdown",
   "metadata": {},
   "source": [
    "### Model Evaluation"
   ]
  },
  {
   "cell_type": "code",
   "execution_count": 34,
   "metadata": {},
   "outputs": [
    {
     "name": "stdout",
     "output_type": "stream",
     "text": [
      "Accuracy scores: 0.6476828587381351\n"
     ]
    }
   ],
   "source": [
    "#Evaluating model on test set\n",
    "y_pred = rfc.predict(X_test)\n",
    "accuracyRFC = accuracy_score(y_test, y_pred)\n",
    "f1_RFC = f1_score(y_test, y_pred, average=\"macro\")\n",
    "precision_RFC = precision_score(y_test, y_pred, average=\"macro\")\n",
    "recall_RFC = recall_score(y_test, y_pred, average=\"macro\")\n",
    "\n",
    "print('Accuracy scores:', accuracyRFC)"
   ]
  },
  {
   "cell_type": "code",
   "execution_count": 35,
   "metadata": {},
   "outputs": [
    {
     "name": "stdout",
     "output_type": "stream",
     "text": [
      "Accuracy scores: 0.9994415747591792\n"
     ]
    }
   ],
   "source": [
    "#Evaluating model on train set\n",
    "y_pred = rfc.predict(X_train)\n",
    "accuracyRFC_train = accuracy_score(y_train, y_pred)\n",
    "\n",
    "print('Accuracy scores:', accuracyRFC_train)"
   ]
  },
  {
   "cell_type": "markdown",
   "metadata": {},
   "source": [
    "## Support Vector Classification (SVC)"
   ]
  },
  {
   "cell_type": "markdown",
   "metadata": {},
   "source": [
    "### Model Training"
   ]
  },
  {
   "cell_type": "code",
   "execution_count": 36,
   "metadata": {},
   "outputs": [
    {
     "name": "stdout",
     "output_type": "stream",
     "text": [
      "Time:  75.12347674369812\n"
     ]
    }
   ],
   "source": [
    "from sklearn.svm import SVC\n",
    "start = time.time()\n",
    "svclassifier = SVC(kernel='linear')\n",
    "svclassifier.fit(X_train, y_train)\n",
    "end = time.time()\n",
    "TimeSVC = end - start\n",
    "print('Time: ', TimeSVC)"
   ]
  },
  {
   "cell_type": "markdown",
   "metadata": {},
   "source": [
    "### Model Evaluation"
   ]
  },
  {
   "cell_type": "code",
   "execution_count": 37,
   "metadata": {},
   "outputs": [
    {
     "name": "stdout",
     "output_type": "stream",
     "text": [
      "Accuracy scores: 0.7107761027359017\n"
     ]
    }
   ],
   "source": [
    "#Evaluating model on test set\n",
    "y_pred = svclassifier.predict(X_test)\n",
    "accuracySVC = accuracy_score(y_test, y_pred)\n",
    "f1_SVC = f1_score(y_test, y_pred, average=\"macro\")\n",
    "precision_SVC = precision_score(y_test, y_pred, average=\"macro\")\n",
    "recall_SVC = recall_score(y_test, y_pred, average=\"macro\")\n",
    "\n",
    "print('Accuracy scores:', accuracySVC)"
   ]
  },
  {
   "cell_type": "code",
   "execution_count": 38,
   "metadata": {},
   "outputs": [
    {
     "name": "stdout",
     "output_type": "stream",
     "text": [
      "Accuracy scores: 0.948904090464889\n"
     ]
    }
   ],
   "source": [
    "#Evaluating model on train set\n",
    "y_pred = svclassifier.predict(X_train)\n",
    "accuracySVC_train= accuracy_score(y_train, y_pred)\n",
    "print('Accuracy scores:', accuracySVC_train)"
   ]
  },
  {
   "cell_type": "markdown",
   "metadata": {},
   "source": [
    "### Model performance comparison"
   ]
  },
  {
   "cell_type": "code",
   "execution_count": 39,
   "metadata": {},
   "outputs": [
    {
     "data": {
      "text/html": [
       "<div>\n",
       "<style scoped>\n",
       "    .dataframe tbody tr th:only-of-type {\n",
       "        vertical-align: middle;\n",
       "    }\n",
       "\n",
       "    .dataframe tbody tr th {\n",
       "        vertical-align: top;\n",
       "    }\n",
       "\n",
       "    .dataframe thead th {\n",
       "        text-align: right;\n",
       "    }\n",
       "</style>\n",
       "<table border=\"1\" class=\"dataframe\">\n",
       "  <thead>\n",
       "    <tr style=\"text-align: right;\">\n",
       "      <th></th>\n",
       "      <th>Model</th>\n",
       "      <th>Accuracy</th>\n",
       "      <th>AC_percent</th>\n",
       "      <th>Accuracy_train</th>\n",
       "      <th>Time</th>\n",
       "      <th>Precision</th>\n",
       "      <th>Recall</th>\n",
       "      <th>F1</th>\n",
       "    </tr>\n",
       "  </thead>\n",
       "  <tbody>\n",
       "    <tr>\n",
       "      <th>0</th>\n",
       "      <td>SVC</td>\n",
       "      <td>0.710776</td>\n",
       "      <td>71.08</td>\n",
       "      <td>0.948904</td>\n",
       "      <td>75.123477</td>\n",
       "      <td>0.720378</td>\n",
       "      <td>0.689966</td>\n",
       "      <td>0.700259</td>\n",
       "    </tr>\n",
       "    <tr>\n",
       "      <th>1</th>\n",
       "      <td>Logistic Regression</td>\n",
       "      <td>0.693467</td>\n",
       "      <td>69.35</td>\n",
       "      <td>0.895435</td>\n",
       "      <td>3.938217</td>\n",
       "      <td>0.720838</td>\n",
       "      <td>0.661445</td>\n",
       "      <td>0.674910</td>\n",
       "    </tr>\n",
       "    <tr>\n",
       "      <th>2</th>\n",
       "      <td>Multinomial Naive Bayes</td>\n",
       "      <td>0.679509</td>\n",
       "      <td>67.95</td>\n",
       "      <td>0.938294</td>\n",
       "      <td>0.021942</td>\n",
       "      <td>0.693278</td>\n",
       "      <td>0.651351</td>\n",
       "      <td>0.661570</td>\n",
       "    </tr>\n",
       "    <tr>\n",
       "      <th>3</th>\n",
       "      <td>Gaussian Naive Bayes</td>\n",
       "      <td>0.509771</td>\n",
       "      <td>50.98</td>\n",
       "      <td>0.955047</td>\n",
       "      <td>6.308297</td>\n",
       "      <td>0.507625</td>\n",
       "      <td>0.475506</td>\n",
       "      <td>0.479994</td>\n",
       "    </tr>\n",
       "    <tr>\n",
       "      <th>4</th>\n",
       "      <td>Decision Trees</td>\n",
       "      <td>0.475712</td>\n",
       "      <td>47.57</td>\n",
       "      <td>0.999442</td>\n",
       "      <td>10.604504</td>\n",
       "      <td>0.459473</td>\n",
       "      <td>0.453164</td>\n",
       "      <td>0.454768</td>\n",
       "    </tr>\n",
       "    <tr>\n",
       "      <th>5</th>\n",
       "      <td>Random Forest</td>\n",
       "      <td>0.647683</td>\n",
       "      <td>64.77</td>\n",
       "      <td>0.999442</td>\n",
       "      <td>17.557278</td>\n",
       "      <td>0.654961</td>\n",
       "      <td>0.604544</td>\n",
       "      <td>0.609331</td>\n",
       "    </tr>\n",
       "  </tbody>\n",
       "</table>\n",
       "</div>"
      ],
      "text/plain": [
       "                     Model  Accuracy  AC_percent  Accuracy_train       Time  \\\n",
       "0                      SVC  0.710776       71.08        0.948904  75.123477   \n",
       "1      Logistic Regression  0.693467       69.35        0.895435   3.938217   \n",
       "2  Multinomial Naive Bayes  0.679509       67.95        0.938294   0.021942   \n",
       "3     Gaussian Naive Bayes  0.509771       50.98        0.955047   6.308297   \n",
       "4           Decision Trees  0.475712       47.57        0.999442  10.604504   \n",
       "5            Random Forest  0.647683       64.77        0.999442  17.557278   \n",
       "\n",
       "   Precision    Recall        F1  \n",
       "0   0.720378  0.689966  0.700259  \n",
       "1   0.720838  0.661445  0.674910  \n",
       "2   0.693278  0.651351  0.661570  \n",
       "3   0.507625  0.475506  0.479994  \n",
       "4   0.459473  0.453164  0.454768  \n",
       "5   0.654961  0.604544  0.609331  "
      ]
     },
     "execution_count": 39,
     "metadata": {},
     "output_type": "execute_result"
    }
   ],
   "source": [
    "#Creating new df to store model performances\n",
    "Model = ['SVC', 'Logistic Regression', 'Multinomial Naive Bayes', 'Gaussian Naive Bayes', 'Decision Trees', 'Random Forest']\n",
    "Accuracy = [accuracySVC, accuracyLR, accuracyNB, accuracyGNB, accuracyDC, accuracyRFC]  \n",
    "AC_percent = [accuracySVC*100, accuracyLR*100, accuracyNB*100, accuracyGNB*100, accuracyDC*100, accuracyRFC*100] \n",
    "Accuracy_train = [accuracySVC_train, accuracyLR_train, accuracyNB_train, accuracyGNB_train, accuracyDC_train, accuracyRFC_train]\n",
    "Time = [TimeSVC, TimeLR, TimeNB, TimeGNB, TimeDC, TimeRFC]\n",
    "F1 = [f1_SVC, f1_LR, f1_NB, f1_GNB, f1_DC, f1_RFC]\n",
    "Precision = [precision_SVC, precision_LR, precision_NB, precision_GNB, precision_DC, precision_RFC]\n",
    "Recall = [recall_SVC, recall_LR, recall_NB, recall_GNB, recall_DC, recall_RFC]\n",
    "\n",
    "#Create df from lists\n",
    "cols = ['Model', 'Accuracy', 'AC_percent', 'Accuracy_train', 'Time', 'Precision', 'Recall', 'F1']\n",
    "data = list(zip(Model, Accuracy, AC_percent, Accuracy_train, Time, Precision, Recall, F1))\n",
    "\n",
    "performance = pd.DataFrame(data, columns=cols)\n",
    "performance['AC_percent'] = round(performance['Accuracy']*100, 2)\n",
    "performance"
   ]
  },
  {
   "cell_type": "markdown",
   "metadata": {},
   "source": [
    "### Overfitting?\n",
    "Look at the extremely high training set accuracy but the lower test set accuracy of each model. It can be assumed that these models are overfitting.\n",
    "\n",
    "| Model | Test Set Accuracy | Training Set Accuracy | \n",
    "| ---: | ---: | ---: |\n",
    "| SVC | 71.08% | 94.89% |\n",
    "| Logistic Regression | 69.35% | 89.54% | \n",
    "| Multinomial Naive Bayes | 67.95% | 93.83% |\n",
    "| Random Forest | 63.43% | 99.94% |\n",
    "| Gaussian Naive Bayes | 50.98% | 95.50% | \n",
    "| Decision Tree | 47.29% | 99.94% |\n"
   ]
  },
  {
   "cell_type": "code",
   "execution_count": 40,
   "metadata": {},
   "outputs": [
    {
     "data": {
      "image/png": "[encoded data removed]",
      "text/plain": [
       "<Figure size 864x432 with 1 Axes>"
      ]
     },
     "metadata": {},
     "output_type": "display_data"
    }
   ],
   "source": [
    "performance.sort_values(by=['AC_percent'], ascending=False, inplace=True)\n",
    "\n",
    "plt.figure(figsize=(12,6))\n",
    "sns.set(style='white', font_scale=1)\n",
    "sns.color_palette(\"rocket_r\", as_cmap=True)\n",
    "\n",
    "splot = sns.barplot(performance['Model'], performance['AC_percent'], palette=\"BuGn_r\")\n",
    "\n",
    "plt.xlabel('Model', fontsize = 12)\n",
    "plt.ylabel('Accuracy (%)', fontsize = 12)\n",
    "plt.title('Accuracy comparison', fontsize=14, fontweight='bold', pad=15)\n",
    "plt.yticks(np.arange(0, 110, 10), fontsize= 12)\n",
    "\n",
    "for p in splot.patches:\n",
    "    label = \"{:.2f}%\".format(p.get_height())\n",
    "    splot.annotate(label, \n",
    "                   (p.get_x() + p.get_width() / 2., p.get_height()), \n",
    "                   ha = 'center', va = 'center', \n",
    "                   xytext = (0, 9), \n",
    "                   textcoords = 'offset points') \n",
    "    \n",
    "plt.show()"
   ]
  },
  {
   "cell_type": "code",
   "execution_count": 41,
   "metadata": {},
   "outputs": [
    {
     "name": "stdout",
     "output_type": "stream",
     "text": [
      "                     Model       Time\n",
      "0                      SVC  75.123477\n",
      "1      Logistic Regression   3.938217\n",
      "2  Multinomial Naive Bayes   0.021942\n",
      "5            Random Forest  17.557278\n",
      "3     Gaussian Naive Bayes   6.308297\n",
      "4           Decision Trees  10.604504\n"
     ]
    }
   ],
   "source": [
    "print(performance.loc[:, ['Model','Time']])"
   ]
  },
  {
   "cell_type": "markdown",
   "metadata": {},
   "source": [
    "### Accuracy Score\n",
    "If we have a look only the test set accuracy score. The best model is SVC at 71.8%, fllowed by Logistic Regression that is just about 2% less than SVC. Multinomial Naive Bayes is good enough at 67.95%. The rest models'performance of Random Forest, Gaussian Naive Bayes and  Decision Trees are unacceptable espectually the latter two that have the scores under 50%.\n",
    "\n",
    "### Time efficiency\n",
    "\n",
    "Time efficiency is another factor that we can use for evaluating the model performance. Among the best accurate models, Multinomial Naive Bayes has the significant fastest processing time at less than a second, followed by Logistic Regression at about 4 seconds and SVC has the worst processing time at 80 seconds."
   ]
  },
  {
   "cell_type": "code",
   "execution_count": 42,
   "metadata": {},
   "outputs": [
    {
     "data": {
      "image/png": "[encoded data removed]",
      "text/plain": [
       "<Figure size 864x288 with 1 Axes>"
      ]
     },
     "metadata": {},
     "output_type": "display_data"
    }
   ],
   "source": [
    "data = np.array(performance.loc[:, ['Precision', 'Recall','F1']])\n",
    "length = len(data)\n",
    "x_labels = Model\n",
    "\n",
    "# Set plot parameters\n",
    "fig, ax = plt.subplots(figsize = (12, 4))\n",
    "width = 0.2 # width of bar\n",
    "x = np.arange(length)\n",
    "\n",
    "ax.bar(x, data[:,0], width, color='#000080', label='Precision')\n",
    "ax.bar(x + width, data[:,1], width, color='#0F52BA', label='Recall')\n",
    "ax.bar(x + (2 * width), data[:,2], width, color='#73C2FB', label='F1')\n",
    "\n",
    "ax.set_ylabel('Scores')\n",
    "ax.set_ylim(0,1)\n",
    "ax.set_xticks(x + width + width/2)\n",
    "ax.set_xticklabels(x_labels)\n",
    "ax.set_xlabel('Model')\n",
    "ax.set_title('Precision, Recall and F1 comparison')\n",
    "ax.legend()\n",
    "plt.grid(True, 'major', 'y', ls='--', lw=.5, c='k', alpha=.3)\n",
    "\n",
    "fig.tight_layout()\n",
    "plt.show()"
   ]
  },
  {
   "cell_type": "markdown",
   "metadata": {},
   "source": [
    "### Precision, Recall and F1\n",
    "\n",
    "The Precision, Recall and F1 scores of each model have followed the same trend as the accuracy score."
   ]
  },
  {
   "cell_type": "markdown",
   "metadata": {},
   "source": [
    "### Model inference\n",
    "\n",
    "At this point, I have selected the SVC as it is the best prediction model of this dataset. Let's explore an example of the correct classification of mystery genre compare with an example of a misclassified genre."
   ]
  },
  {
   "cell_type": "code",
   "execution_count": 43,
   "metadata": {},
   "outputs": [
    {
     "name": "stdout",
     "output_type": "stream",
     "text": [
      "[2 3]\n",
      "Genre:  Mystery\n",
      "Genre:  Novel\n"
     ]
    }
   ],
   "source": [
    "test_text = [\"\"\"The story involves a series of murders taking place in a wealthy neighborhood of New York. The first murder, of a Mr. Joseph Cochrane Robin who is found pierced by an arrow, is accompanied by a note signed \"The Bishop\" with an extract from the nursery rhyme Who Killed Cock Robin. This crime takes place at the home of an elderly physicist with a beautiful young ward and a private archery range.\"\"\",                             \n",
    "\"\"\"The novel is told in epistolary format, as a series of letters, diary entries, ships' log entries, and so forth. The main writers of these items are also the novel's protagonists. The story is occasionally supplemented with newspaper clippings that relate events not directly witnessed by the story's characters. The tale begins with Jonathan Harker, a newly qualified English solicitor, journeying by train and carriage from England to Count Dracula's crumbling, remote castle (situated in the Carpathian Mountains on the border of Transylvania, Bukovina and Moldavia). The purpose of his mission is to provide legal support to Dracula for a real estate transaction overseen by Harker's employer, Peter Hawkins, of Exeter in England. At first enticed by Dracula's gracious manner, Harker soon discovers that he has become a prisoner in the castle.\"\"\"]\n",
    "\n",
    "test_text_vec = tvec.transform(test_text)\n",
    "y_pred = svclassifier.predict(test_text_vec)\n",
    "y_pred\n",
    "print(y_pred)\n",
    "for i in y_pred:\n",
    "    print('Genre: ', format(labelencoder.classes_[i]))"
   ]
  },
  {
   "cell_type": "markdown",
   "metadata": {},
   "source": [
    "\"The story involves a series of murders taking place in a wealthy neighborhood of New York. The first murder, of a Mr. Joseph Cochrane Robin who is found pierced by an arrow, is accompanied by a note signed \"The Bishop\" with an extract from the nursery rhyme Who Killed Cock Robin. This crime takes place at the home of an elderly physicist with a beautiful young ward and a private archery range.\"  \n",
    "\n",
    "\n",
    "In the summary text above, it is obvious that it contains several negative words such as __\"murder/murders\", \"pierced\", \"Killed\",__ and __\"crime\"__. As a result, the SVC model predicted __mystery__ precisely as an actual genre.\n"
   ]
  },
  {
   "cell_type": "markdown",
   "metadata": {},
   "source": [
    "Moving on to the second summary text. \n",
    "\n",
    "\"The novel is told in epistolary format, as a series of letters, diary entries, ships' log entries, and so forth. The main writers of these items are also the novel's protagonists. The story is occasionally supplemented with newspaper clippings that relate events not directly witnessed by the story's characters. The tale begins with Jonathan Harker, a newly qualified English solicitor, journeying by train and carriage from England to Count Dracula's crumbling, remote castle (situated in the Carpathian Mountains on the border of Transylvania, Bukovina and Moldavia). The purpose of his mission is to provide legal support to Dracula for a real estate transaction overseen by Harker's employer, Peter Hawkins, of Exeter in England. At first enticed by Dracula's gracious manner, Harker soon discovers that he has become a prisoner in the castle.\"\n",
    "\n",
    "The actual genre is a mystery but the model predicted novel. It contains a few negative words such as __prisoner__ and __Dracula__(It sound fancier) so that the SVC model predicted this text as a novel instead of a mystery."
   ]
  },
  {
   "cell_type": "markdown",
   "metadata": {},
   "source": [
    "### Conlusion"
   ]
  },
  {
   "cell_type": "markdown",
   "metadata": {},
   "source": [
    "To predict the genre of books based on summaries, first, convert raw data into a data frame that is easier to understand and process. Then, before feeding the predictive models, perform feature extraction to create feature vectors and label encoding to convert the target genres to numeric numbers.\n",
    "\n",
    "6 predictive models using in this experiment:\n",
    "- Support Vector Classification (SVC)\n",
    "- Logistic Regression\n",
    "- Multinomial Naive Bayes\n",
    "- Random Forest\n",
    "- Gaussian Naive Bayes\n",
    "- Decision Tree\n",
    "\n",
    "The most accurate models are SVC, Logistic Regression and Multinomial Naive Bayes. While the accuracy of Multinomial Naive Bayes is lower than that of SVC and Logistic Regression, the processing time of Multinomial Naive Bayes is significantly faster than that of other models. For a larger dataset, we must consider model accuracy as well as time efficiency.\n",
    "\n",
    "Overall, all predictive models' accuracy scores are just about 50 - 70% which is not good enough. To improve the score, we need to perform parameters tuning since the machine learning algorithms are driven by parameters. Other approaches, such as Deep Learning and Doc2vec/word2vec, should also be explored."
   ]
  }
 ],
 "metadata": {
  "kernelspec": {
   "display_name": "Python 3",
   "language": "python",
   "name": "python3"
  },
  "language_info": {
   "codemirror_mode": {
    "name": "ipython",
    "version": 3
   },
   "file_extension": ".py",
   "mimetype": "text/x-python",
   "name": "python",
   "nbconvert_exporter": "python",
   "pygments_lexer": "ipython3",
   "version": "3.8.5"
  }
 },
 "nbformat": 4,
 "nbformat_minor": 2
}
