{
 "cells": [
  {
   "cell_type": "code",
   "execution_count": 1,
   "metadata": {},
   "outputs": [],
   "source": [
    "import pandas as pd\n",
    "import numpy as np\n",
    "import matplotlib.pyplot as plt\n",
    "%matplotlib inline\n",
    "\n",
    "import time\n",
    "import seaborn as sns\n",
    "\n",
    "from sklearn.feature_extraction.text import CountVectorizer\n",
    "from sklearn.feature_extraction.text import TfidfVectorizer, TfidfTransformer\n",
    "from sklearn.model_selection import train_test_split\n",
    "from sklearn.naive_bayes import GaussianNB\n",
    "from sklearn.naive_bayes import MultinomialNB\n",
    "from sklearn.linear_model import LogisticRegression\n",
    "\n",
    "from sklearn.model_selection import cross_val_score\n",
    "from sklearn.metrics import confusion_matrix, accuracy_score\n",
    "from sklearn.metrics import classification_report\n",
    "\n",
    "\n",
    "from sklearn import tree\n",
    "from sklearn.ensemble import RandomForestClassifier\n",
    "from sklearn.pipeline import Pipeline\n",
    "\n",
    "\n",
    "# supress some warnings that mess up my slides\n",
    "import warnings; warnings.simplefilter('ignore')"
   ]
  },
  {
   "cell_type": "markdown",
   "metadata": {},
   "source": [
    "## Predicting the Genre of Books from Summaries\n",
    "\n",
    "We'll use a set of book summaries from the [CMU Book Summaries Corpus](http://www.cs.cmu.edu/~dbamman/booksummaries.html) in this experiment.  This contains a large number of summaries (16,559) and includes meta-data about the genre of the books taken from Freebase.  Each book can have more than one genre and there are 227 genres listed in total.  To simplify the problem of genre prediction we will select a small number of target genres that occur frequently in the collection and select the books with these genre labels.  This will give us one genre label per book. \n",
    "\n",
    "Your goal in this portfolio is to take this data and build predictive models to classify the books into one of the five target genres.  You will need to extract suitable features from the texts and select suitable models to classify them. You should build and evaluate at least TWO models and compare the prediction results.\n",
    "\n",
    "You should report on each stage of your experiment as you work with the data.\n"
   ]
  },
  {
   "cell_type": "markdown",
   "metadata": {},
   "source": [
    "## Data Preparation\n",
    "\n",
    "The first task is to read the data. It is made available in tab-separated format but has no column headings. We can use `read_csv` to read this but we need to set the separator to `\\t` (tab) and supply the column names.  The names come from the [ReadMe](data/booksummaries/README.txt) file."
   ]
  },
  {
   "cell_type": "code",
   "execution_count": 2,
   "metadata": {
    "scrolled": true
   },
   "outputs": [
    {
     "data": {
      "text/html": [
       "<div>\n",
       "<style scoped>\n",
       "    .dataframe tbody tr th:only-of-type {\n",
       "        vertical-align: middle;\n",
       "    }\n",
       "\n",
       "    .dataframe tbody tr th {\n",
       "        vertical-align: top;\n",
       "    }\n",
       "\n",
       "    .dataframe thead th {\n",
       "        text-align: right;\n",
       "    }\n",
       "</style>\n",
       "<table border=\"1\" class=\"dataframe\">\n",
       "  <thead>\n",
       "    <tr style=\"text-align: right;\">\n",
       "      <th></th>\n",
       "      <th>wid</th>\n",
       "      <th>fid</th>\n",
       "      <th>title</th>\n",
       "      <th>author</th>\n",
       "      <th>date</th>\n",
       "      <th>genres</th>\n",
       "      <th>summary</th>\n",
       "    </tr>\n",
       "  </thead>\n",
       "  <tbody>\n",
       "    <tr>\n",
       "      <th>0</th>\n",
       "      <td>620</td>\n",
       "      <td>/m/0hhy</td>\n",
       "      <td>Animal Farm</td>\n",
       "      <td>George Orwell</td>\n",
       "      <td>1945-08-17</td>\n",
       "      <td>{\"/m/016lj8\": \"Roman \\u00e0 clef\", \"/m/06nbt\":...</td>\n",
       "      <td>Old Major, the old boar on the Manor Farm, ca...</td>\n",
       "    </tr>\n",
       "    <tr>\n",
       "      <th>1</th>\n",
       "      <td>843</td>\n",
       "      <td>/m/0k36</td>\n",
       "      <td>A Clockwork Orange</td>\n",
       "      <td>Anthony Burgess</td>\n",
       "      <td>1962</td>\n",
       "      <td>{\"/m/06n90\": \"Science Fiction\", \"/m/0l67h\": \"N...</td>\n",
       "      <td>Alex, a teenager living in near-future Englan...</td>\n",
       "    </tr>\n",
       "    <tr>\n",
       "      <th>2</th>\n",
       "      <td>986</td>\n",
       "      <td>/m/0ldx</td>\n",
       "      <td>The Plague</td>\n",
       "      <td>Albert Camus</td>\n",
       "      <td>1947</td>\n",
       "      <td>{\"/m/02m4t\": \"Existentialism\", \"/m/02xlf\": \"Fi...</td>\n",
       "      <td>The text of The Plague is divided into five p...</td>\n",
       "    </tr>\n",
       "    <tr>\n",
       "      <th>3</th>\n",
       "      <td>1756</td>\n",
       "      <td>/m/0sww</td>\n",
       "      <td>An Enquiry Concerning Human Understanding</td>\n",
       "      <td>David Hume</td>\n",
       "      <td></td>\n",
       "      <td></td>\n",
       "      <td>The argument of the Enquiry proceeds by a ser...</td>\n",
       "    </tr>\n",
       "    <tr>\n",
       "      <th>4</th>\n",
       "      <td>2080</td>\n",
       "      <td>/m/0wkt</td>\n",
       "      <td>A Fire Upon the Deep</td>\n",
       "      <td>Vernor Vinge</td>\n",
       "      <td></td>\n",
       "      <td>{\"/m/03lrw\": \"Hard science fiction\", \"/m/06n90...</td>\n",
       "      <td>The novel posits that space around the Milky ...</td>\n",
       "    </tr>\n",
       "  </tbody>\n",
       "</table>\n",
       "</div>"
      ],
      "text/plain": [
       "    wid      fid                                      title           author  \\\n",
       "0   620  /m/0hhy                                Animal Farm    George Orwell   \n",
       "1   843  /m/0k36                         A Clockwork Orange  Anthony Burgess   \n",
       "2   986  /m/0ldx                                 The Plague     Albert Camus   \n",
       "3  1756  /m/0sww  An Enquiry Concerning Human Understanding       David Hume   \n",
       "4  2080  /m/0wkt                       A Fire Upon the Deep     Vernor Vinge   \n",
       "\n",
       "         date                                             genres  \\\n",
       "0  1945-08-17  {\"/m/016lj8\": \"Roman \\u00e0 clef\", \"/m/06nbt\":...   \n",
       "1        1962  {\"/m/06n90\": \"Science Fiction\", \"/m/0l67h\": \"N...   \n",
       "2        1947  {\"/m/02m4t\": \"Existentialism\", \"/m/02xlf\": \"Fi...   \n",
       "3                                                                  \n",
       "4              {\"/m/03lrw\": \"Hard science fiction\", \"/m/06n90...   \n",
       "\n",
       "                                             summary  \n",
       "0   Old Major, the old boar on the Manor Farm, ca...  \n",
       "1   Alex, a teenager living in near-future Englan...  \n",
       "2   The text of The Plague is divided into five p...  \n",
       "3   The argument of the Enquiry proceeds by a ser...  \n",
       "4   The novel posits that space around the Milky ...  "
      ]
     },
     "execution_count": 2,
     "metadata": {},
     "output_type": "execute_result"
    }
   ],
   "source": [
    "names = ['wid', 'fid', 'title', 'author', 'date', 'genres', 'summary']\n",
    "\n",
    "books = pd.read_csv(\"data/booksummaries/booksummaries.txt\", sep=\"\\t\", header=None, names=names, keep_default_na=False)\n",
    "books.head()"
   ]
  },
  {
   "cell_type": "code",
   "execution_count": 3,
   "metadata": {},
   "outputs": [
    {
     "name": "stdout",
     "output_type": "stream",
     "text": [
      "(16559, 7)\n"
     ]
    }
   ],
   "source": [
    "print(books.shape)"
   ]
  },
  {
   "cell_type": "markdown",
   "metadata": {},
   "source": [
    "We next filter the data so that only our target genre labels are included and we assign each text to just one of the genre labels.  It's possible that one text could be labelled with two of these labels (eg. Science Fiction and Fantasy) but we will just assign one of those here. "
   ]
  },
  {
   "cell_type": "code",
   "execution_count": 4,
   "metadata": {},
   "outputs": [
    {
     "name": "stdout",
     "output_type": "stream",
     "text": [
      "(8954, 5)\n",
      "                                title             author        date  \\\n",
      "0                         Animal Farm      George Orwell  1945-08-17   \n",
      "1                  A Clockwork Orange    Anthony Burgess        1962   \n",
      "2                          The Plague       Albert Camus        1947   \n",
      "4                A Fire Upon the Deep       Vernor Vinge               \n",
      "6                A Wizard of Earthsea  Ursula K. Le Guin        1968   \n",
      "8     Blade Runner 3: Replicant Night        K. W. Jeter  1996-10-01   \n",
      "9   Blade Runner 2: The Edge of Human        K. W. Jeter  1995-10-01   \n",
      "20                              Crash      J. G. Ballard        1973   \n",
      "21                   Children of Dune      Frank Herbert        1976   \n",
      "23                  Chapterhouse Dune      Frank Herbert     1985-04   \n",
      "\n",
      "                                              summary                  genre  \n",
      "0    Old Major, the old boar on the Manor Farm, ca...  Children's literature  \n",
      "1    Alex, a teenager living in near-future Englan...                  Novel  \n",
      "2    The text of The Plague is divided into five p...                  Novel  \n",
      "4    The novel posits that space around the Milky ...                Fantasy  \n",
      "6    Ged is a young boy on Gont, one of the larger...                Fantasy  \n",
      "8    Living on Mars, Deckard is acting as a consul...        Science Fiction  \n",
      "9    Beginning several months after the events in ...        Science Fiction  \n",
      "20   The story is told through the eyes of narrato...                  Novel  \n",
      "21   Nine years after Emperor Paul Muad'dib walked...        Science Fiction  \n",
      "23   The situation is desperate for the Bene Gesse...        Science Fiction  \n"
     ]
    }
   ],
   "source": [
    "target_genres = [\"Children's literature\",\n",
    "                 \"Science Fiction\",\n",
    "                 \"Novel\",\n",
    "                 \"Fantasy\",\n",
    "                 \"Mystery\"]\n",
    "\n",
    "# create a Series of empty strings the same length as the list of books\n",
    "genre = pd.Series(np.repeat(\"\", books.shape[0]))\n",
    "# look for each target genre and set the corresponding entries in the genre series to the genre label\n",
    "for g in target_genres:\n",
    "    genre[books['genres'].str.contains(g)] = g\n",
    "\n",
    "# add this to the book dataframe and then select only those rows that have a genre label\n",
    "# drop some useless columns\n",
    "books['genre'] = genre\n",
    "genre_books = books[genre!=''].drop(['genres', 'fid', 'wid'], axis=1)\n",
    "\n",
    "print(genre_books.shape)\n",
    "print(genre_books.head(10))"
   ]
  },
  {
   "cell_type": "code",
   "execution_count": 5,
   "metadata": {},
   "outputs": [
    {
     "data": {
      "text/html": [
       "<div>\n",
       "<style scoped>\n",
       "    .dataframe tbody tr th:only-of-type {\n",
       "        vertical-align: middle;\n",
       "    }\n",
       "\n",
       "    .dataframe tbody tr th {\n",
       "        vertical-align: top;\n",
       "    }\n",
       "\n",
       "    .dataframe thead th {\n",
       "        text-align: right;\n",
       "    }\n",
       "</style>\n",
       "<table border=\"1\" class=\"dataframe\">\n",
       "  <thead>\n",
       "    <tr style=\"text-align: right;\">\n",
       "      <th></th>\n",
       "      <th>title</th>\n",
       "      <th>author</th>\n",
       "      <th>date</th>\n",
       "      <th>summary</th>\n",
       "    </tr>\n",
       "    <tr>\n",
       "      <th>genre</th>\n",
       "      <th></th>\n",
       "      <th></th>\n",
       "      <th></th>\n",
       "      <th></th>\n",
       "    </tr>\n",
       "  </thead>\n",
       "  <tbody>\n",
       "    <tr>\n",
       "      <th>Children's literature</th>\n",
       "      <td>1092</td>\n",
       "      <td>1092</td>\n",
       "      <td>1092</td>\n",
       "      <td>1092</td>\n",
       "    </tr>\n",
       "    <tr>\n",
       "      <th>Fantasy</th>\n",
       "      <td>2311</td>\n",
       "      <td>2311</td>\n",
       "      <td>2311</td>\n",
       "      <td>2311</td>\n",
       "    </tr>\n",
       "    <tr>\n",
       "      <th>Mystery</th>\n",
       "      <td>1396</td>\n",
       "      <td>1396</td>\n",
       "      <td>1396</td>\n",
       "      <td>1396</td>\n",
       "    </tr>\n",
       "    <tr>\n",
       "      <th>Novel</th>\n",
       "      <td>2258</td>\n",
       "      <td>2258</td>\n",
       "      <td>2258</td>\n",
       "      <td>2258</td>\n",
       "    </tr>\n",
       "    <tr>\n",
       "      <th>Science Fiction</th>\n",
       "      <td>1897</td>\n",
       "      <td>1897</td>\n",
       "      <td>1897</td>\n",
       "      <td>1897</td>\n",
       "    </tr>\n",
       "  </tbody>\n",
       "</table>\n",
       "</div>"
      ],
      "text/plain": [
       "                       title  author  date  summary\n",
       "genre                                              \n",
       "Children's literature   1092    1092  1092     1092\n",
       "Fantasy                 2311    2311  2311     2311\n",
       "Mystery                 1396    1396  1396     1396\n",
       "Novel                   2258    2258  2258     2258\n",
       "Science Fiction         1897    1897  1897     1897"
      ]
     },
     "execution_count": 5,
     "metadata": {},
     "output_type": "execute_result"
    }
   ],
   "source": [
    "# check how many books we have in each genre category\n",
    "genre_books.groupby('genre').count()"
   ]
  },
  {
   "cell_type": "markdown",
   "metadata": {},
   "source": [
    "## Feature Exaction\n",
    "\n",
    "Now you take over to build a suitable model and present your results.\n",
    "\n",
    "Firstly, you need to perform feature extraction to produce feature vectors for the predictive models."
   ]
  },
  {
   "cell_type": "code",
   "execution_count": 6,
   "metadata": {},
   "outputs": [
    {
     "data": {
      "text/html": [
       "<div>\n",
       "<style scoped>\n",
       "    .dataframe tbody tr th:only-of-type {\n",
       "        vertical-align: middle;\n",
       "    }\n",
       "\n",
       "    .dataframe tbody tr th {\n",
       "        vertical-align: top;\n",
       "    }\n",
       "\n",
       "    .dataframe thead th {\n",
       "        text-align: right;\n",
       "    }\n",
       "</style>\n",
       "<table border=\"1\" class=\"dataframe\">\n",
       "  <thead>\n",
       "    <tr style=\"text-align: right;\">\n",
       "      <th></th>\n",
       "      <th>title</th>\n",
       "      <th>author</th>\n",
       "      <th>date</th>\n",
       "      <th>summary</th>\n",
       "      <th>genre</th>\n",
       "    </tr>\n",
       "  </thead>\n",
       "  <tbody>\n",
       "    <tr>\n",
       "      <th>0</th>\n",
       "      <td>Animal Farm</td>\n",
       "      <td>George Orwell</td>\n",
       "      <td>1945-08-17</td>\n",
       "      <td>Old Major, the old boar on the Manor Farm, ca...</td>\n",
       "      <td>Children's literature</td>\n",
       "    </tr>\n",
       "    <tr>\n",
       "      <th>1</th>\n",
       "      <td>A Clockwork Orange</td>\n",
       "      <td>Anthony Burgess</td>\n",
       "      <td>1962</td>\n",
       "      <td>Alex, a teenager living in near-future Englan...</td>\n",
       "      <td>Novel</td>\n",
       "    </tr>\n",
       "    <tr>\n",
       "      <th>2</th>\n",
       "      <td>The Plague</td>\n",
       "      <td>Albert Camus</td>\n",
       "      <td>1947</td>\n",
       "      <td>The text of The Plague is divided into five p...</td>\n",
       "      <td>Novel</td>\n",
       "    </tr>\n",
       "    <tr>\n",
       "      <th>4</th>\n",
       "      <td>A Fire Upon the Deep</td>\n",
       "      <td>Vernor Vinge</td>\n",
       "      <td></td>\n",
       "      <td>The novel posits that space around the Milky ...</td>\n",
       "      <td>Fantasy</td>\n",
       "    </tr>\n",
       "    <tr>\n",
       "      <th>6</th>\n",
       "      <td>A Wizard of Earthsea</td>\n",
       "      <td>Ursula K. Le Guin</td>\n",
       "      <td>1968</td>\n",
       "      <td>Ged is a young boy on Gont, one of the larger...</td>\n",
       "      <td>Fantasy</td>\n",
       "    </tr>\n",
       "    <tr>\n",
       "      <th>...</th>\n",
       "      <td>...</td>\n",
       "      <td>...</td>\n",
       "      <td>...</td>\n",
       "      <td>...</td>\n",
       "      <td>...</td>\n",
       "    </tr>\n",
       "    <tr>\n",
       "      <th>16525</th>\n",
       "      <td>Beautiful Creatures</td>\n",
       "      <td>Margaret Stohl</td>\n",
       "      <td>2009-12-01</td>\n",
       "      <td>Beautiful Creatures is set in fictional Gatli...</td>\n",
       "      <td>Fantasy</td>\n",
       "    </tr>\n",
       "    <tr>\n",
       "      <th>16526</th>\n",
       "      <td>Beautiful Chaos</td>\n",
       "      <td>Gary Russell</td>\n",
       "      <td></td>\n",
       "      <td>After returning home, more strange things are...</td>\n",
       "      <td>Fantasy</td>\n",
       "    </tr>\n",
       "    <tr>\n",
       "      <th>16531</th>\n",
       "      <td>Guardians of Ga'Hoole Book 4: The Siege</td>\n",
       "      <td>Helen Dunmore</td>\n",
       "      <td>2004-05-01</td>\n",
       "      <td>==Receptio</td>\n",
       "      <td>Fantasy</td>\n",
       "    </tr>\n",
       "    <tr>\n",
       "      <th>16532</th>\n",
       "      <td>The Casual Vacancy</td>\n",
       "      <td>J. K. Rowling</td>\n",
       "      <td>2012-09-27</td>\n",
       "      <td>The novel is split into seven parts, the firs...</td>\n",
       "      <td>Fantasy</td>\n",
       "    </tr>\n",
       "    <tr>\n",
       "      <th>16549</th>\n",
       "      <td>The Third Lynx</td>\n",
       "      <td>Timothy Zahn</td>\n",
       "      <td>2007</td>\n",
       "      <td>The story starts with former government agent...</td>\n",
       "      <td>Science Fiction</td>\n",
       "    </tr>\n",
       "  </tbody>\n",
       "</table>\n",
       "<p>8954 rows × 5 columns</p>\n",
       "</div>"
      ],
      "text/plain": [
       "                                         title             author        date  \\\n",
       "0                                  Animal Farm      George Orwell  1945-08-17   \n",
       "1                           A Clockwork Orange    Anthony Burgess        1962   \n",
       "2                                   The Plague       Albert Camus        1947   \n",
       "4                         A Fire Upon the Deep       Vernor Vinge               \n",
       "6                         A Wizard of Earthsea  Ursula K. Le Guin        1968   \n",
       "...                                        ...                ...         ...   \n",
       "16525                      Beautiful Creatures     Margaret Stohl  2009-12-01   \n",
       "16526                          Beautiful Chaos       Gary Russell               \n",
       "16531  Guardians of Ga'Hoole Book 4: The Siege      Helen Dunmore  2004-05-01   \n",
       "16532                       The Casual Vacancy      J. K. Rowling  2012-09-27   \n",
       "16549                           The Third Lynx       Timothy Zahn        2007   \n",
       "\n",
       "                                                 summary  \\\n",
       "0       Old Major, the old boar on the Manor Farm, ca...   \n",
       "1       Alex, a teenager living in near-future Englan...   \n",
       "2       The text of The Plague is divided into five p...   \n",
       "4       The novel posits that space around the Milky ...   \n",
       "6       Ged is a young boy on Gont, one of the larger...   \n",
       "...                                                  ...   \n",
       "16525   Beautiful Creatures is set in fictional Gatli...   \n",
       "16526   After returning home, more strange things are...   \n",
       "16531                                         ==Receptio   \n",
       "16532   The novel is split into seven parts, the firs...   \n",
       "16549   The story starts with former government agent...   \n",
       "\n",
       "                       genre  \n",
       "0      Children's literature  \n",
       "1                      Novel  \n",
       "2                      Novel  \n",
       "4                    Fantasy  \n",
       "6                    Fantasy  \n",
       "...                      ...  \n",
       "16525                Fantasy  \n",
       "16526                Fantasy  \n",
       "16531                Fantasy  \n",
       "16532                Fantasy  \n",
       "16549        Science Fiction  \n",
       "\n",
       "[8954 rows x 5 columns]"
      ]
     },
     "execution_count": 6,
     "metadata": {},
     "output_type": "execute_result"
    }
   ],
   "source": [
    "genre_books"
   ]
  },
  {
   "cell_type": "code",
   "execution_count": 7,
   "metadata": {},
   "outputs": [
    {
     "data": {
      "text/plain": [
       "0     Old Major, the old boar on the Manor Farm, ca...\n",
       "1     Alex, a teenager living in near-future Englan...\n",
       "2     The text of The Plague is divided into five p...\n",
       "4     The novel posits that space around the Milky ...\n",
       "6     Ged is a young boy on Gont, one of the larger...\n",
       "Name: summary, dtype: object"
      ]
     },
     "execution_count": 7,
     "metadata": {},
     "output_type": "execute_result"
    }
   ],
   "source": [
    "genre_books.summary.head()"
   ]
  },
  {
   "cell_type": "code",
   "execution_count": 8,
   "metadata": {},
   "outputs": [
    {
     "name": "stdout",
     "output_type": "stream",
     "text": [
      "title      0\n",
      "author     0\n",
      "date       0\n",
      "summary    0\n",
      "genre      0\n",
      "dtype: int64\n"
     ]
    }
   ],
   "source": [
    "print(genre_books.isnull().sum())"
   ]
  },
  {
   "cell_type": "code",
   "execution_count": 9,
   "metadata": {},
   "outputs": [
    {
     "data": {
      "text/plain": [
       "8954"
      ]
     },
     "execution_count": 9,
     "metadata": {},
     "output_type": "execute_result"
    }
   ],
   "source": [
    "len(genre_books.summary) #8954\n",
    "len(genre_books.genre) #8954"
   ]
  },
  {
   "cell_type": "code",
   "execution_count": 10,
   "metadata": {},
   "outputs": [],
   "source": [
    "X = genre_books['summary']\n",
    "y = genre_books['genre']"
   ]
  },
  {
   "cell_type": "code",
   "execution_count": 11,
   "metadata": {},
   "outputs": [],
   "source": [
    "vectorizer = CountVectorizer()\n",
    "vectorizer = vectorizer.fit(X)\n",
    "vectorizer_msg = vectorizer.transform(X)\n",
    "\n",
    "#create df to contain words\n",
    "word_matrix = vectorizer_msg.toarray() \n",
    "df = pd.DataFrame(word_matrix, columns = vectorizer.get_feature_names()) #create df from matrix\n",
    "#df.shape\n",
    "\n",
    "#bag-of-words\n",
    "dfsum = df.sum(axis=0, skipna=True)\n",
    "bow = dfsum.sort_values(ascending=False)[:30]\n",
    "#bow"
   ]
  },
  {
   "cell_type": "code",
   "execution_count": 12,
   "metadata": {},
   "outputs": [],
   "source": [
    "vectorizer2 = CountVectorizer(stop_words='english')\n",
    "vectorizer2 = vectorizer2.fit(X)\n",
    "vectorizer_msg2 = vectorizer2.transform(X)\n",
    "\n",
    "#create df to contain words\n",
    "word_matrix2 = vectorizer_msg2.toarray()\n",
    "df = pd.DataFrame(word_matrix2, columns = vectorizer2.get_feature_names())\n",
    "#df.shape\n",
    "\n",
    "#bag-of-words\n",
    "dfsum2 = df.sum(axis=0, skipna=True)\n",
    "bow2 = dfsum2.sort_values(ascending=False)[:30]\n",
    "#bow2"
   ]
  },
  {
   "cell_type": "code",
   "execution_count": 13,
   "metadata": {},
   "outputs": [
    {
     "data": {
      "image/png": "[encoded data removed]",
      "text/plain": [
       "<Figure size 432x576 with 2 Axes>"
      ]
     },
     "metadata": {},
     "output_type": "display_data"
    }
   ],
   "source": [
    "sns.set(style='whitegrid')\n",
    "fig, ax = plt.subplots(1, 2, figsize = (6, 8))\n",
    "g1 = sns.barplot(bow.values, bow.index, ax=ax[0]).set(xlabel='Frequencies', ylabel='Words', title = 'Top 30 words including stop-words')\n",
    "g2 = sns.barplot(bow2.values, bow2.index, ax=ax[1]).set(xlabel='Frequencies', ylabel='Words', title = 'Top 30 words without stop-words')\n",
    "fig.tight_layout(pad=0.5) #adjust padding between subplots\n",
    "plt.show()"
   ]
  },
  {
   "cell_type": "code",
   "execution_count": 14,
   "metadata": {},
   "outputs": [],
   "source": [
    "#Encoding categorical Values\n",
    "labes = {\"Children's literature\":\"0\", \"Science Fiction\":\"1\", \"Novel\":\"2\", \"Fantasy\":\"3\", \"Mystery\":\"4\"}\n",
    "genre_books['genre_'] = genre_books['genre'].apply(lambda x: labes[x])\n",
    "genre_books[\"genre_\"] = genre_books[\"genre_\"].astype('category')\n",
    "genre_books[\"genre_\"] = genre_books[\"genre_\"].cat.codes"
   ]
  },
  {
   "cell_type": "code",
   "execution_count": 15,
   "metadata": {},
   "outputs": [
    {
     "data": {
      "text/html": [
       "<div>\n",
       "<style scoped>\n",
       "    .dataframe tbody tr th:only-of-type {\n",
       "        vertical-align: middle;\n",
       "    }\n",
       "\n",
       "    .dataframe tbody tr th {\n",
       "        vertical-align: top;\n",
       "    }\n",
       "\n",
       "    .dataframe thead th {\n",
       "        text-align: right;\n",
       "    }\n",
       "</style>\n",
       "<table border=\"1\" class=\"dataframe\">\n",
       "  <thead>\n",
       "    <tr style=\"text-align: right;\">\n",
       "      <th></th>\n",
       "      <th>title</th>\n",
       "      <th>author</th>\n",
       "      <th>date</th>\n",
       "      <th>summary</th>\n",
       "      <th>genre</th>\n",
       "      <th>genre_</th>\n",
       "    </tr>\n",
       "  </thead>\n",
       "  <tbody>\n",
       "    <tr>\n",
       "      <th>0</th>\n",
       "      <td>Animal Farm</td>\n",
       "      <td>George Orwell</td>\n",
       "      <td>1945-08-17</td>\n",
       "      <td>Old Major, the old boar on the Manor Farm, ca...</td>\n",
       "      <td>Children's literature</td>\n",
       "      <td>0</td>\n",
       "    </tr>\n",
       "    <tr>\n",
       "      <th>1</th>\n",
       "      <td>A Clockwork Orange</td>\n",
       "      <td>Anthony Burgess</td>\n",
       "      <td>1962</td>\n",
       "      <td>Alex, a teenager living in near-future Englan...</td>\n",
       "      <td>Novel</td>\n",
       "      <td>2</td>\n",
       "    </tr>\n",
       "    <tr>\n",
       "      <th>2</th>\n",
       "      <td>The Plague</td>\n",
       "      <td>Albert Camus</td>\n",
       "      <td>1947</td>\n",
       "      <td>The text of The Plague is divided into five p...</td>\n",
       "      <td>Novel</td>\n",
       "      <td>2</td>\n",
       "    </tr>\n",
       "    <tr>\n",
       "      <th>4</th>\n",
       "      <td>A Fire Upon the Deep</td>\n",
       "      <td>Vernor Vinge</td>\n",
       "      <td></td>\n",
       "      <td>The novel posits that space around the Milky ...</td>\n",
       "      <td>Fantasy</td>\n",
       "      <td>3</td>\n",
       "    </tr>\n",
       "    <tr>\n",
       "      <th>6</th>\n",
       "      <td>A Wizard of Earthsea</td>\n",
       "      <td>Ursula K. Le Guin</td>\n",
       "      <td>1968</td>\n",
       "      <td>Ged is a young boy on Gont, one of the larger...</td>\n",
       "      <td>Fantasy</td>\n",
       "      <td>3</td>\n",
       "    </tr>\n",
       "    <tr>\n",
       "      <th>...</th>\n",
       "      <td>...</td>\n",
       "      <td>...</td>\n",
       "      <td>...</td>\n",
       "      <td>...</td>\n",
       "      <td>...</td>\n",
       "      <td>...</td>\n",
       "    </tr>\n",
       "    <tr>\n",
       "      <th>16525</th>\n",
       "      <td>Beautiful Creatures</td>\n",
       "      <td>Margaret Stohl</td>\n",
       "      <td>2009-12-01</td>\n",
       "      <td>Beautiful Creatures is set in fictional Gatli...</td>\n",
       "      <td>Fantasy</td>\n",
       "      <td>3</td>\n",
       "    </tr>\n",
       "    <tr>\n",
       "      <th>16526</th>\n",
       "      <td>Beautiful Chaos</td>\n",
       "      <td>Gary Russell</td>\n",
       "      <td></td>\n",
       "      <td>After returning home, more strange things are...</td>\n",
       "      <td>Fantasy</td>\n",
       "      <td>3</td>\n",
       "    </tr>\n",
       "    <tr>\n",
       "      <th>16531</th>\n",
       "      <td>Guardians of Ga'Hoole Book 4: The Siege</td>\n",
       "      <td>Helen Dunmore</td>\n",
       "      <td>2004-05-01</td>\n",
       "      <td>==Receptio</td>\n",
       "      <td>Fantasy</td>\n",
       "      <td>3</td>\n",
       "    </tr>\n",
       "    <tr>\n",
       "      <th>16532</th>\n",
       "      <td>The Casual Vacancy</td>\n",
       "      <td>J. K. Rowling</td>\n",
       "      <td>2012-09-27</td>\n",
       "      <td>The novel is split into seven parts, the firs...</td>\n",
       "      <td>Fantasy</td>\n",
       "      <td>3</td>\n",
       "    </tr>\n",
       "    <tr>\n",
       "      <th>16549</th>\n",
       "      <td>The Third Lynx</td>\n",
       "      <td>Timothy Zahn</td>\n",
       "      <td>2007</td>\n",
       "      <td>The story starts with former government agent...</td>\n",
       "      <td>Science Fiction</td>\n",
       "      <td>1</td>\n",
       "    </tr>\n",
       "  </tbody>\n",
       "</table>\n",
       "<p>8954 rows × 6 columns</p>\n",
       "</div>"
      ],
      "text/plain": [
       "                                         title             author        date  \\\n",
       "0                                  Animal Farm      George Orwell  1945-08-17   \n",
       "1                           A Clockwork Orange    Anthony Burgess        1962   \n",
       "2                                   The Plague       Albert Camus        1947   \n",
       "4                         A Fire Upon the Deep       Vernor Vinge               \n",
       "6                         A Wizard of Earthsea  Ursula K. Le Guin        1968   \n",
       "...                                        ...                ...         ...   \n",
       "16525                      Beautiful Creatures     Margaret Stohl  2009-12-01   \n",
       "16526                          Beautiful Chaos       Gary Russell               \n",
       "16531  Guardians of Ga'Hoole Book 4: The Siege      Helen Dunmore  2004-05-01   \n",
       "16532                       The Casual Vacancy      J. K. Rowling  2012-09-27   \n",
       "16549                           The Third Lynx       Timothy Zahn        2007   \n",
       "\n",
       "                                                 summary  \\\n",
       "0       Old Major, the old boar on the Manor Farm, ca...   \n",
       "1       Alex, a teenager living in near-future Englan...   \n",
       "2       The text of The Plague is divided into five p...   \n",
       "4       The novel posits that space around the Milky ...   \n",
       "6       Ged is a young boy on Gont, one of the larger...   \n",
       "...                                                  ...   \n",
       "16525   Beautiful Creatures is set in fictional Gatli...   \n",
       "16526   After returning home, more strange things are...   \n",
       "16531                                         ==Receptio   \n",
       "16532   The novel is split into seven parts, the firs...   \n",
       "16549   The story starts with former government agent...   \n",
       "\n",
       "                       genre  genre_  \n",
       "0      Children's literature       0  \n",
       "1                      Novel       2  \n",
       "2                      Novel       2  \n",
       "4                    Fantasy       3  \n",
       "6                    Fantasy       3  \n",
       "...                      ...     ...  \n",
       "16525                Fantasy       3  \n",
       "16526                Fantasy       3  \n",
       "16531                Fantasy       3  \n",
       "16532                Fantasy       3  \n",
       "16549        Science Fiction       1  \n",
       "\n",
       "[8954 rows x 6 columns]"
      ]
     },
     "execution_count": 15,
     "metadata": {},
     "output_type": "execute_result"
    }
   ],
   "source": [
    "genre_books.dtypes\n",
    "genre_books"
   ]
  },
  {
   "cell_type": "code",
   "execution_count": 16,
   "metadata": {},
   "outputs": [],
   "source": [
    "X = genre_books['summary']\n",
    "y = genre_books['genre_']"
   ]
  },
  {
   "cell_type": "code",
   "execution_count": 17,
   "metadata": {},
   "outputs": [
    {
     "name": "stdout",
     "output_type": "stream",
     "text": [
      "Time:  4.5446248054504395\n"
     ]
    }
   ],
   "source": [
    "start = time.time()\n",
    "tvec = TfidfVectorizer(max_features=20000, stop_words='english')\n",
    "X_tfidf = tvec.fit_transform(X)\n",
    "end = time.time()\n",
    "Time = end - start\n",
    "print('Time: ', Time)"
   ]
  },
  {
   "cell_type": "code",
   "execution_count": 18,
   "metadata": {},
   "outputs": [],
   "source": [
    "X_train, X_test, y_train, y_test = train_test_split(X_tfidf, y, test_size=0.2, random_state=142)"
   ]
  },
  {
   "cell_type": "code",
   "execution_count": 19,
   "metadata": {},
   "outputs": [
    {
     "name": "stdout",
     "output_type": "stream",
     "text": [
      "X_train shape:  (7163, 20000)\n",
      "y_train shape:  (7163,)\n",
      "X_test shape:  (1791, 20000)\n",
      "y_test shape:  (1791,)\n"
     ]
    }
   ],
   "source": [
    "print(\"X_train shape: \", X_train.shape)\n",
    "print(\"y_train shape: \", y_train.shape)\n",
    "print(\"X_test shape: \", X_test.shape)\n",
    "print(\"y_test shape: \", y_test.shape)"
   ]
  },
  {
   "cell_type": "markdown",
   "metadata": {},
   "source": [
    "## Multinomial Naive Bayes"
   ]
  },
  {
   "cell_type": "markdown",
   "metadata": {},
   "source": [
    "### Model Training\n",
    "\n",
    "Then, train two predictive models from the given data set."
   ]
  },
  {
   "cell_type": "code",
   "execution_count": 20,
   "metadata": {},
   "outputs": [
    {
     "name": "stdout",
     "output_type": "stream",
     "text": [
      "Time:  0.016955137252807617\n"
     ]
    }
   ],
   "source": [
    "start = time.time()\n",
    "modelNB = MultinomialNB(alpha=0.005)\n",
    "modelNB.fit(X_train, y_train)\n",
    "end = time.time()\n",
    "Time = end - start\n",
    "print('Time: ', Time)"
   ]
  },
  {
   "cell_type": "markdown",
   "metadata": {},
   "source": [
    "### Model Evaluation\n",
    "\n",
    "Finally, evaluate and compare the learned predictive models."
   ]
  },
  {
   "cell_type": "code",
   "execution_count": 21,
   "metadata": {},
   "outputs": [
    {
     "name": "stdout",
     "output_type": "stream",
     "text": [
      "Accuracy scores: 0.6795086543830262\n",
      "                       precision    recall  f1-score   support\n",
      "\n",
      "Children's literature       0.69      0.41      0.51       237\n",
      "      Science Fiction       0.74      0.72      0.73       400\n",
      "                Novel       0.56      0.75      0.64       430\n",
      "              Fantasy       0.74      0.75      0.75       453\n",
      "              Mystery       0.73      0.63      0.68       271\n",
      "\n",
      "             accuracy                           0.68      1791\n",
      "            macro avg       0.69      0.65      0.66      1791\n",
      "         weighted avg       0.69      0.68      0.68      1791\n",
      "\n"
     ]
    }
   ],
   "source": [
    "#Evaluating model on test set\n",
    "y_pred = modelNB.predict(X_test)\n",
    "accuracy = accuracy_score(y_test, y_pred)\n",
    "\n",
    "print('Accuracy scores:', accuracy)\n",
    "print(classification_report(y_test, y_pred, target_names = target_genres))"
   ]
  },
  {
   "cell_type": "code",
   "execution_count": 22,
   "metadata": {},
   "outputs": [
    {
     "name": "stdout",
     "output_type": "stream",
     "text": [
      "Accuracy scores: 0.9382940108892922\n",
      "                       precision    recall  f1-score   support\n",
      "\n",
      "Children's literature       0.96      0.93      0.94       855\n",
      "      Science Fiction       0.89      0.96      0.92      1497\n",
      "                Novel       0.93      0.94      0.93      1828\n",
      "              Fantasy       0.96      0.91      0.94      1858\n",
      "              Mystery       0.97      0.96      0.96      1125\n",
      "\n",
      "             accuracy                           0.94      7163\n",
      "            macro avg       0.94      0.94      0.94      7163\n",
      "         weighted avg       0.94      0.94      0.94      7163\n",
      "\n"
     ]
    }
   ],
   "source": [
    "#Evaluating model on train set\n",
    "y_pred = modelNB.predict(X_train)\n",
    "accuracy = accuracy_score(y_train, y_pred)\n",
    "\n",
    "print('Accuracy scores:', accuracy)\n",
    "print(classification_report(y_train, y_pred, target_names = target_genres))"
   ]
  },
  {
   "cell_type": "code",
   "execution_count": 23,
   "metadata": {},
   "outputs": [],
   "source": [
    "#test_text = [\"Nine years after Emperor Paul Muad'dib walked\", 'The novel posits that space around the Milky']\n",
    "#test_text_vec = tvec.transform(test_text)\n",
    "#y_pred = modelNB.predict(test_text_vec)\n",
    "#y_pred"
   ]
  },
  {
   "cell_type": "markdown",
   "metadata": {},
   "source": [
    "## Gaussian Naive Bayes"
   ]
  },
  {
   "cell_type": "markdown",
   "metadata": {},
   "source": [
    "### Model Training"
   ]
  },
  {
   "cell_type": "code",
   "execution_count": 24,
   "metadata": {},
   "outputs": [
    {
     "name": "stdout",
     "output_type": "stream",
     "text": [
      "Time:  5.943720817565918\n"
     ]
    }
   ],
   "source": [
    "start = time.time()\n",
    "modelGNB = GaussianNB()\n",
    "modelGNB.fit(X_train.toarray(), y_train)\n",
    "end = time.time()\n",
    "Time = end - start\n",
    "print('Time: ', Time)"
   ]
  },
  {
   "cell_type": "code",
   "execution_count": 25,
   "metadata": {},
   "outputs": [],
   "source": [
    "#test_text = [\"Nine years after Emperor Paul Muad'dib walked\", 'The novel posits that space around the Milky']\n",
    "#test_text_vec = tvec.transform(test_text)\n",
    "#y_pred = modelGNB.predict(test_text_vec.toarray())\n",
    "#y_pred"
   ]
  },
  {
   "cell_type": "markdown",
   "metadata": {},
   "source": [
    "### Model Evaluation"
   ]
  },
  {
   "cell_type": "code",
   "execution_count": 26,
   "metadata": {},
   "outputs": [
    {
     "name": "stdout",
     "output_type": "stream",
     "text": [
      "Accuracy scores: 0.5097710776102736\n",
      "                       precision    recall  f1-score   support\n",
      "\n",
      "Children's literature       0.45      0.22      0.30       237\n",
      "      Science Fiction       0.55      0.53      0.54       400\n",
      "                Novel       0.41      0.54      0.47       430\n",
      "              Fantasy       0.59      0.67      0.63       453\n",
      "              Mystery       0.53      0.41      0.46       271\n",
      "\n",
      "             accuracy                           0.51      1791\n",
      "            macro avg       0.51      0.48      0.48      1791\n",
      "         weighted avg       0.51      0.51      0.50      1791\n",
      "\n"
     ]
    }
   ],
   "source": [
    "#Evaluating model on test set\n",
    "y_pred = modelGNB.predict(X_test.toarray())\n",
    "accuracy = accuracy_score(y_test, y_pred)\n",
    "\n",
    "print('Accuracy scores:', accuracy)\n",
    "print(classification_report(y_test, y_pred, target_names = target_genres))"
   ]
  },
  {
   "cell_type": "code",
   "execution_count": 27,
   "metadata": {},
   "outputs": [
    {
     "name": "stdout",
     "output_type": "stream",
     "text": [
      "Accuracy scores: 0.9550467681139188\n",
      "                       precision    recall  f1-score   support\n",
      "\n",
      "Children's literature       0.86      1.00      0.93       855\n",
      "      Science Fiction       0.94      0.97      0.96      1497\n",
      "                Novel       0.99      0.94      0.96      1828\n",
      "              Fantasy       1.00      0.92      0.96      1858\n",
      "              Mystery       0.92      0.98      0.95      1125\n",
      "\n",
      "             accuracy                           0.96      7163\n",
      "            macro avg       0.95      0.96      0.95      7163\n",
      "         weighted avg       0.96      0.96      0.96      7163\n",
      "\n"
     ]
    }
   ],
   "source": [
    "#Evaluating model on train set\n",
    "y_pred = modelGNB.predict(X_train.toarray())\n",
    "accuracy = accuracy_score(y_train, y_pred)\n",
    "\n",
    "print('Accuracy scores:', accuracy)\n",
    "print(classification_report(y_train, y_pred, target_names = target_genres))"
   ]
  },
  {
   "cell_type": "markdown",
   "metadata": {},
   "source": [
    "## Logistic Regression"
   ]
  },
  {
   "cell_type": "markdown",
   "metadata": {},
   "source": [
    "### Model Training"
   ]
  },
  {
   "cell_type": "code",
   "execution_count": 28,
   "metadata": {},
   "outputs": [
    {
     "name": "stdout",
     "output_type": "stream",
     "text": [
      "Time:  3.704817533493042\n"
     ]
    }
   ],
   "source": [
    "start = time.time()\n",
    "logreg = LogisticRegression()\n",
    "logreg.fit(X_train, y_train)\n",
    "end = time.time()\n",
    "Time = end - start\n",
    "print('Time: ', Time)"
   ]
  },
  {
   "cell_type": "markdown",
   "metadata": {},
   "source": [
    "### Model Evaluation"
   ]
  },
  {
   "cell_type": "code",
   "execution_count": 29,
   "metadata": {},
   "outputs": [
    {
     "name": "stdout",
     "output_type": "stream",
     "text": [
      "Accuracy scores: 0.6934673366834171\n",
      "                       precision    recall  f1-score   support\n",
      "\n",
      "Children's literature       0.76      0.41      0.53       237\n",
      "      Science Fiction       0.76      0.69      0.73       400\n",
      "                Novel       0.59      0.79      0.68       430\n",
      "              Fantasy       0.70      0.79      0.74       453\n",
      "              Mystery       0.79      0.62      0.69       271\n",
      "\n",
      "             accuracy                           0.69      1791\n",
      "            macro avg       0.72      0.66      0.67      1791\n",
      "         weighted avg       0.71      0.69      0.69      1791\n",
      "\n"
     ]
    }
   ],
   "source": [
    "#Evaluating model on test set\n",
    "y_pred = logreg.predict(X_test)\n",
    "accuracy = accuracy_score(y_test, y_pred)\n",
    "\n",
    "[\"Children's literature\",\n",
    "                 'Science Fiction',\n",
    "                 'Novel',\n",
    "                 'Fantasy',\n",
    "                 'Mystery']\n",
    "print('Accuracy scores:', accuracy)\n",
    "print(classification_report(y_test, y_pred, target_names = target_genres))"
   ]
  },
  {
   "cell_type": "code",
   "execution_count": 30,
   "metadata": {},
   "outputs": [
    {
     "name": "stdout",
     "output_type": "stream",
     "text": [
      "Accuracy scores: 0.8954348736562893\n",
      "                       precision    recall  f1-score   support\n",
      "\n",
      "Children's literature       0.93      0.79      0.85       855\n",
      "      Science Fiction       0.89      0.92      0.90      1497\n",
      "                Novel       0.85      0.93      0.89      1828\n",
      "              Fantasy       0.91      0.92      0.91      1858\n",
      "              Mystery       0.95      0.86      0.90      1125\n",
      "\n",
      "             accuracy                           0.90      7163\n",
      "            macro avg       0.91      0.88      0.89      7163\n",
      "         weighted avg       0.90      0.90      0.90      7163\n",
      "\n"
     ]
    }
   ],
   "source": [
    "#Evaluating model on train set\n",
    "y_pred = logreg.predict(X_train)\n",
    "accuracy = accuracy_score(y_train, y_pred)\n",
    "\n",
    "print('Accuracy scores:', accuracy)\n",
    "print(classification_report(y_train, y_pred, target_names = target_genres))"
   ]
  },
  {
   "cell_type": "markdown",
   "metadata": {},
   "source": [
    "## Decision Tree"
   ]
  },
  {
   "cell_type": "markdown",
   "metadata": {},
   "source": [
    "### Model Training"
   ]
  },
  {
   "cell_type": "code",
   "execution_count": 31,
   "metadata": {},
   "outputs": [
    {
     "name": "stdout",
     "output_type": "stream",
     "text": [
      "Time:  9.144002199172974\n"
     ]
    }
   ],
   "source": [
    "start = time.time()\n",
    "decisionTree = tree.DecisionTreeClassifier()\n",
    "decisionTree.fit(X_train, y_train)\n",
    "end = time.time()\n",
    "Time = end - start\n",
    "print('Time: ', Time)"
   ]
  },
  {
   "cell_type": "markdown",
   "metadata": {},
   "source": [
    "### Model Evaluation"
   ]
  },
  {
   "cell_type": "code",
   "execution_count": 32,
   "metadata": {},
   "outputs": [
    {
     "name": "stdout",
     "output_type": "stream",
     "text": [
      "Accuracy scores: 0.4785036292573981\n",
      "                       precision    recall  f1-score   support\n",
      "\n",
      "Children's literature       0.32      0.26      0.29       237\n",
      "      Science Fiction       0.58      0.52      0.55       400\n",
      "                Novel       0.43      0.48      0.45       430\n",
      "              Fantasy       0.52      0.57      0.54       453\n",
      "              Mystery       0.47      0.46      0.46       271\n",
      "\n",
      "             accuracy                           0.48      1791\n",
      "            macro avg       0.46      0.46      0.46      1791\n",
      "         weighted avg       0.48      0.48      0.48      1791\n",
      "\n"
     ]
    }
   ],
   "source": [
    "#Evaluating model on test set\n",
    "y_pred = decisionTree.predict(X_test)\n",
    "accuracy = accuracy_score(y_test, y_pred)\n",
    "\n",
    "print('Accuracy scores:', accuracy)\n",
    "print(classification_report(y_test, y_pred, target_names = target_genres))"
   ]
  },
  {
   "cell_type": "code",
   "execution_count": 33,
   "metadata": {},
   "outputs": [
    {
     "name": "stdout",
     "output_type": "stream",
     "text": [
      "Accuracy scores: 0.9994415747591792\n",
      "                       precision    recall  f1-score   support\n",
      "\n",
      "Children's literature       1.00      1.00      1.00       855\n",
      "      Science Fiction       1.00      1.00      1.00      1497\n",
      "                Novel       1.00      1.00      1.00      1828\n",
      "              Fantasy       1.00      1.00      1.00      1858\n",
      "              Mystery       1.00      1.00      1.00      1125\n",
      "\n",
      "             accuracy                           1.00      7163\n",
      "            macro avg       1.00      1.00      1.00      7163\n",
      "         weighted avg       1.00      1.00      1.00      7163\n",
      "\n"
     ]
    }
   ],
   "source": [
    "#Evaluating model on train set\n",
    "y_pred = decisionTree.predict(X_train)\n",
    "accuracy = accuracy_score(y_train, y_pred)\n",
    "\n",
    "print('Accuracy scores:', accuracy)\n",
    "print(classification_report(y_train, y_pred, target_names = target_genres))"
   ]
  },
  {
   "cell_type": "markdown",
   "metadata": {},
   "source": [
    "## Random Forest"
   ]
  },
  {
   "cell_type": "markdown",
   "metadata": {},
   "source": [
    "### Model Training"
   ]
  },
  {
   "cell_type": "code",
   "execution_count": 34,
   "metadata": {},
   "outputs": [
    {
     "name": "stdout",
     "output_type": "stream",
     "text": [
      "Time:  16.423592805862427\n"
     ]
    }
   ],
   "source": [
    "start = time.time()\n",
    "rfc = RandomForestClassifier()\n",
    "rfc.fit(X_train, y_train)\n",
    "end = time.time()\n",
    "Time = end - start\n",
    "print('Time: ', Time)"
   ]
  },
  {
   "cell_type": "markdown",
   "metadata": {},
   "source": [
    "### Model Evaluation"
   ]
  },
  {
   "cell_type": "code",
   "execution_count": 35,
   "metadata": {},
   "outputs": [
    {
     "name": "stdout",
     "output_type": "stream",
     "text": [
      "Accuracy scores: 0.6471245114461195\n",
      "                       precision    recall  f1-score   support\n",
      "\n",
      "Children's literature       0.65      0.27      0.38       237\n",
      "      Science Fiction       0.73      0.69      0.71       400\n",
      "                Novel       0.56      0.75      0.64       430\n",
      "              Fantasy       0.65      0.77      0.71       453\n",
      "              Mystery       0.73      0.55      0.62       271\n",
      "\n",
      "             accuracy                           0.65      1791\n",
      "            macro avg       0.66      0.60      0.61      1791\n",
      "         weighted avg       0.66      0.65      0.64      1791\n",
      "\n"
     ]
    }
   ],
   "source": [
    "#Evaluating model on test set\n",
    "y_pred = rfc.predict(X_test)\n",
    "accuracy = accuracy_score(y_test, y_pred)\n",
    "\n",
    "print('Accuracy scores:', accuracy)\n",
    "print(classification_report(y_test, y_pred, target_names = target_genres))"
   ]
  },
  {
   "cell_type": "code",
   "execution_count": 36,
   "metadata": {},
   "outputs": [
    {
     "name": "stdout",
     "output_type": "stream",
     "text": [
      "Accuracy scores: 0.9994415747591792\n",
      "                       precision    recall  f1-score   support\n",
      "\n",
      "Children's literature       1.00      1.00      1.00       855\n",
      "      Science Fiction       1.00      1.00      1.00      1497\n",
      "                Novel       1.00      1.00      1.00      1828\n",
      "              Fantasy       1.00      1.00      1.00      1858\n",
      "              Mystery       1.00      1.00      1.00      1125\n",
      "\n",
      "             accuracy                           1.00      7163\n",
      "            macro avg       1.00      1.00      1.00      7163\n",
      "         weighted avg       1.00      1.00      1.00      7163\n",
      "\n"
     ]
    }
   ],
   "source": [
    "#Evaluating model on train set\n",
    "y_pred = rfc.predict(X_train)\n",
    "accuracy = accuracy_score(y_train, y_pred)\n",
    "\n",
    "print('Accuracy scores:', accuracy)\n",
    "print(classification_report(y_train, y_pred, target_names = target_genres))"
   ]
  },
  {
   "cell_type": "markdown",
   "metadata": {},
   "source": [
    "__Deep Learning__"
   ]
  },
  {
   "cell_type": "code",
   "execution_count": null,
   "metadata": {},
   "outputs": [],
   "source": []
  },
  {
   "cell_type": "code",
   "execution_count": null,
   "metadata": {},
   "outputs": [],
   "source": []
  },
  {
   "cell_type": "code",
   "execution_count": null,
   "metadata": {},
   "outputs": [],
   "source": []
  },
  {
   "attachments": {},
   "cell_type": "markdown",
   "metadata": {},
   "source": [
    "## Summary\n",
    "### Best Model Selection\n",
    "| Model  | Test Set Accuracy | Train Set Accuracy | Time |\n",
    "| --- | --- | --- | --- |\n",
    "| Multinomial Naive Bayes | 68% | 94% | 0.03 s |\n",
    "| Gaussian Naive Bayes | 51% | 96% | 4.14 s |\n",
    "| Logistic Regression | 69% | 90% | 4.19 s |\n",
    "| Decision Tree | 48% | 100% | 8.55 s |\n",
    "| Random Forest | 64% | 100% | 18.41 s |"
   ]
  },
  {
   "cell_type": "markdown",
   "metadata": {},
   "source": [
    "Overall, most of the models have quite good accuracy. \n",
    "It can be observed that Gaussian Naive Bayes, Decision Tree and Random Forest model seem to be overfit since they have an extremely high train set accuracy but a very lower test set accuracy. Morever,..."
   ]
  },
  {
   "cell_type": "markdown",
   "metadata": {},
   "source": [
    "__Pipeline__\n",
    "\n",
    "To make the vectorizer => transformer => classifier easier to work with, we will use Pipeline class in Scilkit-Learn that behaves like a compound classifier.\n",
    "\n",
    "https://towardsdatascience.com/multi-class-text-classification-model-comparison-and-selection-5eb066197568"
   ]
  },
  {
   "cell_type": "code",
   "execution_count": null,
   "metadata": {},
   "outputs": [],
   "source": []
  },
  {
   "cell_type": "markdown",
   "metadata": {},
   "source": [
    "### Model inference"
   ]
  },
  {
   "cell_type": "code",
   "execution_count": 37,
   "metadata": {},
   "outputs": [],
   "source": [
    "test_text = [\"Nine years after Emperor Paul Muad'dib walked\", 'The novel posits that space around the Milky']\n",
    "test_text_vec = tvec.transform(test_text)\n",
    "#The ctaul genres(y) are Fantasy, Science Fiction"
   ]
  },
  {
   "cell_type": "code",
   "execution_count": 38,
   "metadata": {},
   "outputs": [
    {
     "name": "stdout",
     "output_type": "stream",
     "text": [
      "[2 1]\n",
      "Genre:  Novel\n",
      "Genre:  Science Fiction\n"
     ]
    }
   ],
   "source": [
    "y_pred = modelNB.predict(test_text_vec)\n",
    "y_pred\n",
    "print(y_pred)\n",
    "for i in y_pred:\n",
    "    print('Genre: ', format(target_genres[i]))\n"
   ]
  },
  {
   "cell_type": "code",
   "execution_count": 39,
   "metadata": {},
   "outputs": [
    {
     "name": "stdout",
     "output_type": "stream",
     "text": [
      "[2 1]\n",
      "Genre:  Novel\n",
      "Genre:  Science Fiction\n"
     ]
    }
   ],
   "source": [
    "y_pred = modelNB.predict(test_text_vec.toarray())\n",
    "y_pred\n",
    "print(y_pred)\n",
    "for i in y_pred:\n",
    "    print('Genre: ', format(target_genres[i]))"
   ]
  },
  {
   "cell_type": "code",
   "execution_count": 40,
   "metadata": {},
   "outputs": [
    {
     "name": "stdout",
     "output_type": "stream",
     "text": [
      "[3 1]\n",
      "Genre:  Fantasy\n",
      "Genre:  Science Fiction\n"
     ]
    }
   ],
   "source": [
    "y_pred = logreg.predict(test_text_vec)\n",
    "y_pred\n",
    "print(y_pred)\n",
    "for i in y_pred:\n",
    "    print('Genre: ', format(target_genres[i]))"
   ]
  },
  {
   "cell_type": "code",
   "execution_count": 41,
   "metadata": {},
   "outputs": [
    {
     "name": "stdout",
     "output_type": "stream",
     "text": [
      "[3 2]\n",
      "Genre:  Fantasy\n",
      "Genre:  Novel\n"
     ]
    }
   ],
   "source": [
    "y_pred = decisionTree.predict(test_text_vec)\n",
    "y_pred\n",
    "print(y_pred)\n",
    "for i in y_pred:\n",
    "    print('Genre: ', format(target_genres[i]))"
   ]
  },
  {
   "cell_type": "code",
   "execution_count": 42,
   "metadata": {},
   "outputs": [
    {
     "name": "stdout",
     "output_type": "stream",
     "text": [
      "[3 1]\n",
      "Genre:  Fantasy\n",
      "Genre:  Science Fiction\n"
     ]
    }
   ],
   "source": [
    "y_pred = rfc.predict(test_text_vec)\n",
    "y_pred\n",
    "print(y_pred)\n",
    "for i in y_pred:\n",
    "    print('Genre: ', format(target_genres[i]))"
   ]
  },
  {
   "cell_type": "code",
   "execution_count": null,
   "metadata": {},
   "outputs": [],
   "source": []
  },
  {
   "cell_type": "code",
   "execution_count": null,
   "metadata": {},
   "outputs": [],
   "source": []
  },
  {
   "cell_type": "code",
   "execution_count": null,
   "metadata": {},
   "outputs": [],
   "source": []
  },
  {
   "cell_type": "code",
   "execution_count": null,
   "metadata": {},
   "outputs": [],
   "source": []
  }
 ],
 "metadata": {
  "kernelspec": {
   "display_name": "Python 3",
   "language": "python",
   "name": "python3"
  },
  "language_info": {
   "codemirror_mode": {
    "name": "ipython",
    "version": 3
   },
   "file_extension": ".py",
   "mimetype": "text/x-python",
   "name": "python",
   "nbconvert_exporter": "python",
   "pygments_lexer": "ipython3",
   "version": "3.8.5"
  }
 },
 "nbformat": 4,
 "nbformat_minor": 2
}
